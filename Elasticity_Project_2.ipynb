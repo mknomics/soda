{
  "nbformat": 4,
  "nbformat_minor": 0,
  "metadata": {
    "colab": {
      "name": "Elasticity_Intro.ipynb",
      "provenance": [],
      "toc_visible": true,
      "authorship_tag": "ABX9TyPxrmQGIIjf2yyeDUWDCAZK",
      "include_colab_link": true
    },
    "kernelspec": {
      "name": "python3",
      "display_name": "Python 3"
    },
    "language_info": {
      "name": "python"
    }
  },
  "cells": [
    {
      "cell_type": "markdown",
      "metadata": {
        "id": "view-in-github",
        "colab_type": "text"
      },
      "source": [
        "<a href=\"https://colab.research.google.com/github/mknomics/soda/blob/main/Elasticity_Project_2.ipynb\" target=\"_parent\"><img src=\"https://colab.research.google.com/assets/colab-badge.svg\" alt=\"Open In Colab\"/></a>"
      ]
    },
    {
      "cell_type": "code",
      "source": [
        "HTML('<iframe width=\"560\" height=\"315\" src=\"https://www.youtube.com/embed/i-HnvsehuSw\" title=\"YouTube video player\" frameborder=\"0\" allow=\"accelerometer; autoplay; clipboard-write; encrypted-media; gyroscope; picture-in-picture\" allowfullscreen></iframe>')\n"
      ],
      "metadata": {
        "id": "zhy-hxwUwyBg",
        "outputId": "369841d3-8387-4f24-e147-040eb0b0d9da",
        "colab": {
          "base_uri": "https://localhost:8080/",
          "height": 335
        }
      },
      "execution_count": null,
      "outputs": [
        {
          "output_type": "execute_result",
          "data": {
            "text/html": [
              "<iframe width=\"560\" height=\"315\" src=\"https://www.youtube.com/embed/i-HnvsehuSw\" title=\"YouTube video player\" frameborder=\"0\" allow=\"accelerometer; autoplay; clipboard-write; encrypted-media; gyroscope; picture-in-picture\" allowfullscreen></iframe>"
            ],
            "text/plain": [
              "<IPython.core.display.HTML object>"
            ]
          },
          "metadata": {},
          "execution_count": 30
        }
      ]
    },
    {
      "cell_type": "code",
      "source": [
        "\n",
        "HTML('<iframe width=\"560\" height=\"315\" src=\"https://www.youtube.com/embed/BHpqF06i2ZI\" title=\"YouTube video player\" frameborder=\"0\" allow=\"accelerometer; autoplay; clipboard-write; encrypted-media; gyroscope; picture-in-picture\" allowfullscreen></iframe>')\n"
      ],
      "metadata": {
        "id": "Pyc6_wsGH-h6",
        "outputId": "1ec2d430-3048-4ac5-9269-393202ac5d09",
        "colab": {
          "base_uri": "https://localhost:8080/",
          "height": 335
        }
      },
      "execution_count": null,
      "outputs": [
        {
          "output_type": "execute_result",
          "data": {
            "text/html": [
              "<iframe width=\"560\" height=\"315\" src=\"https://www.youtube.com/embed/BHpqF06i2ZI\" title=\"YouTube video player\" frameborder=\"0\" allow=\"accelerometer; autoplay; clipboard-write; encrypted-media; gyroscope; picture-in-picture\" allowfullscreen></iframe>"
            ],
            "text/plain": [
              "<IPython.core.display.HTML object>"
            ]
          },
          "metadata": {},
          "execution_count": 31
        }
      ]
    },
    {
      "cell_type": "markdown",
      "source": [
        "# SODA DATA\n",
        "This dataset contains product level montly data for multiple stores and products within Greece.  \n",
        "\n",
        "\n",
        "**IMPORTANT DISCLAIMER**  I use this dataset to do a naive estimation of various demand equations BUT doing so is hazardously wrong in practice.  Why? The Data points in this set are the result of an interaction of BOTH supply AND demand.  Our interpretation of Demand is \"willingness-to-pay\".  A true demand schedule is more properly represented in the [Google Sheet](https://docs.google.com/spreadsheets/d/1w5R60JGle5JAWz_wFuQ7dutR948jm60gSvcUTqK2UUI/edit?usp=sharing) that we completed in class.  \n",
        "\n",
        "A more robust estimation would use causal analysis and other experimental methods not covered here. \n",
        "\n",
        "df_city[METRIC][CITY][BRAND][CONTAINER]\n",
        "\n",
        "**METRIC** is in [mean_q, mean_p]\n",
        "\n",
        "**CITY** is in ['Athens', 'Irakleion', 'Larisa', 'Patra', 'Thessaloniki']\n",
        "\n",
        "**BRAND** is in ['adult-cola', 'gazoza', 'kinder-cola', 'lemon-boost',  'orange-power']\n",
        "\n",
        "**CONTAINER** is in ['plastic', 'can', 'glass']"
      ],
      "metadata": {
        "id": "2wxtzoe40zRN"
      }
    },
    {
      "cell_type": "markdown",
      "source": [
        "## Import Packages\n"
      ],
      "metadata": {
        "id": "Arf4X_ZP05Vb"
      }
    },
    {
      "cell_type": "code",
      "metadata": {
        "id": "Pi5w_-6i91p1",
        "cellView": "form"
      },
      "source": [
        "#@title \n",
        "import pandas as pd  #pandas is good for data manipulation.  I rename it here as \"pd\" to make it easier to call in the script below.  I could rename it anything I want but \"pd\" is standard\n",
        "import matplotlib.pyplot as plt #matplotlib is a good package for graphing.  Again, I rename it plt to make coding more simple\n",
        "import numpy as np #numpy is a good package for doing calculations\n",
        "from sklearn.linear_model import LinearRegression  #sklearn is a package that is good at estimation.  Tons of models are available and here I import LinearRegression because that's all I need\n",
        "from IPython.core.display import HTML\n",
        "\n"
      ],
      "execution_count": null,
      "outputs": []
    },
    {
      "cell_type": "markdown",
      "source": [
        "## Get Some Data"
      ],
      "metadata": {
        "id": "Q58sVTsO1XB5"
      }
    },
    {
      "cell_type": "code",
      "source": [
        "#@title\n",
        "#Import a csv file from a target url:  What is a csv file?  Go to the url below to see the raw data.  columns are separated by a \",\" and the last column lacks a \",\"\n",
        "data_url='https://raw.githubusercontent.com/mknomics/soda/main/soda.csv' # I define a string variable using apostrophe ' but I could ahve also used quotes \" \".  I just cannot mix apostophe and quotes in the same line\n",
        "df = pd.read_csv(data_url) # This line creates a pandas DataFrame that I defined as \"df\".  I could have called it anything I want\n",
        "\n",
        "# Set my date objects.  This must be done so that 'date' is recognized as a date and not just a random string variable\n",
        "df['date']=pd.to_datetime(df['date']) #make date a datetime object\n",
        "df['year']=pd.DatetimeIndex(df['date']).year # I define a variable 'year' using the DatetimeIndex method\n",
        "df['month']=pd.DatetimeIndex(df['date']).month # similarly I repeat and define 'month'\n",
        "\n",
        "#@title\n",
        "#Step 1: use groupby method and define a new dataframe for each of the metrics that we are interested in\n",
        "df_mean_Q = df.groupby(['brand','container','city','date'])['quantity'].mean().reset_index()# I reset the index for each new data set.  Don't worry if the indexing is confusing since it isn't the main point here\n",
        "df_mean_P = df.groupby(['brand','container','city','date'])['price'].mean().reset_index()\n",
        "# Step 2: the data frames from Step #1 can be merged by their unique rows.  Rows are unique by city x brand x container x date\n",
        "df_city = pd.merge(df_mean_Q, df_mean_P) # merges df_total_Q dataframe with df_mean_P dataframe based on their unique rows\n",
        "\n",
        "# Now let's rename the price and quantity column so we don't get confused later about what we are looking at\n",
        "df_city.rename(columns={'quantity': 'mean_q', 'price': 'mean_p'},inplace=True) # I \n",
        "\n",
        "# we lost our columns df['year'] and df['month'] so lets add these back\n",
        "df_city['year']=pd.DatetimeIndex(df_city['date']).year # I define a variable 'year' using the DatetimeIndex method\n",
        "df_city['month']=pd.DatetimeIndex(df_city['date']).month # similarly I repeat and define 'month'about what we are looking at\n",
        "df_city.rename(columns={'quantity': 'mean_q', 'price': 'mean_p'},inplace=True) \n",
        "\n",
        "df_city = df_city.pivot(index='date', columns=['city','brand','container'], values=['mean_q','mean_p'])\n"
      ],
      "metadata": {
        "id": "q03wib570yDi",
        "cellView": "form"
      },
      "execution_count": null,
      "outputs": []
    },
    {
      "cell_type": "code",
      "metadata": {
        "colab": {
          "base_uri": "https://localhost:8080/",
          "height": 206
        },
        "id": "8Bd2IGbwX36O",
        "outputId": "1ef8a5ed-a838-459f-d1a0-dc4eb611564f",
        "cellView": "form"
      },
      "source": [
        "#@title\n",
        "df.head()"
      ],
      "execution_count": null,
      "outputs": [
        {
          "output_type": "execute_result",
          "data": {
            "text/html": [
              "\n",
              "  <div id=\"df-84d0e49f-ae68-442e-af03-d75d9dfb5d39\">\n",
              "    <div class=\"colab-df-container\">\n",
              "      <div>\n",
              "<style scoped>\n",
              "    .dataframe tbody tr th:only-of-type {\n",
              "        vertical-align: middle;\n",
              "    }\n",
              "\n",
              "    .dataframe tbody tr th {\n",
              "        vertical-align: top;\n",
              "    }\n",
              "\n",
              "    .dataframe thead th {\n",
              "        text-align: right;\n",
              "    }\n",
              "</style>\n",
              "<table border=\"1\" class=\"dataframe\">\n",
              "  <thead>\n",
              "    <tr style=\"text-align: right;\">\n",
              "      <th></th>\n",
              "      <th>id</th>\n",
              "      <th>date</th>\n",
              "      <th>city</th>\n",
              "      <th>lat</th>\n",
              "      <th>long</th>\n",
              "      <th>pop</th>\n",
              "      <th>shop</th>\n",
              "      <th>brand</th>\n",
              "      <th>container</th>\n",
              "      <th>capacity</th>\n",
              "      <th>price</th>\n",
              "      <th>quantity</th>\n",
              "      <th>year</th>\n",
              "      <th>month</th>\n",
              "    </tr>\n",
              "  </thead>\n",
              "  <tbody>\n",
              "    <tr>\n",
              "      <th>0</th>\n",
              "      <td>1222</td>\n",
              "      <td>2013-02-28</td>\n",
              "      <td>Athens</td>\n",
              "      <td>37.96245</td>\n",
              "      <td>23.68708</td>\n",
              "      <td>671022</td>\n",
              "      <td>shop_3</td>\n",
              "      <td>adult-cola</td>\n",
              "      <td>plastic</td>\n",
              "      <td>1.5lt</td>\n",
              "      <td>2.46</td>\n",
              "      <td>10709</td>\n",
              "      <td>2013</td>\n",
              "      <td>2</td>\n",
              "    </tr>\n",
              "    <tr>\n",
              "      <th>1</th>\n",
              "      <td>1256</td>\n",
              "      <td>2013-02-28</td>\n",
              "      <td>Athens</td>\n",
              "      <td>37.97945</td>\n",
              "      <td>23.71622</td>\n",
              "      <td>671022</td>\n",
              "      <td>shop_1</td>\n",
              "      <td>adult-cola</td>\n",
              "      <td>plastic</td>\n",
              "      <td>1.5lt</td>\n",
              "      <td>1.91</td>\n",
              "      <td>12703</td>\n",
              "      <td>2013</td>\n",
              "      <td>2</td>\n",
              "    </tr>\n",
              "    <tr>\n",
              "      <th>2</th>\n",
              "      <td>2325</td>\n",
              "      <td>2014-02-28</td>\n",
              "      <td>Athens</td>\n",
              "      <td>37.97945</td>\n",
              "      <td>23.71622</td>\n",
              "      <td>668203</td>\n",
              "      <td>shop_1</td>\n",
              "      <td>adult-cola</td>\n",
              "      <td>plastic</td>\n",
              "      <td>1.5lt</td>\n",
              "      <td>3.99</td>\n",
              "      <td>3642</td>\n",
              "      <td>2014</td>\n",
              "      <td>2</td>\n",
              "    </tr>\n",
              "    <tr>\n",
              "      <th>3</th>\n",
              "      <td>2333</td>\n",
              "      <td>2014-02-28</td>\n",
              "      <td>Athens</td>\n",
              "      <td>37.96245</td>\n",
              "      <td>23.68708</td>\n",
              "      <td>668203</td>\n",
              "      <td>shop_3</td>\n",
              "      <td>adult-cola</td>\n",
              "      <td>plastic</td>\n",
              "      <td>1.5lt</td>\n",
              "      <td>2.82</td>\n",
              "      <td>9282</td>\n",
              "      <td>2014</td>\n",
              "      <td>2</td>\n",
              "    </tr>\n",
              "    <tr>\n",
              "      <th>4</th>\n",
              "      <td>3334</td>\n",
              "      <td>2015-02-28</td>\n",
              "      <td>Athens</td>\n",
              "      <td>37.97945</td>\n",
              "      <td>23.71622</td>\n",
              "      <td>667237</td>\n",
              "      <td>shop_1</td>\n",
              "      <td>adult-cola</td>\n",
              "      <td>plastic</td>\n",
              "      <td>1.5lt</td>\n",
              "      <td>1.29</td>\n",
              "      <td>15782</td>\n",
              "      <td>2015</td>\n",
              "      <td>2</td>\n",
              "    </tr>\n",
              "  </tbody>\n",
              "</table>\n",
              "</div>\n",
              "      <button class=\"colab-df-convert\" onclick=\"convertToInteractive('df-84d0e49f-ae68-442e-af03-d75d9dfb5d39')\"\n",
              "              title=\"Convert this dataframe to an interactive table.\"\n",
              "              style=\"display:none;\">\n",
              "        \n",
              "  <svg xmlns=\"http://www.w3.org/2000/svg\" height=\"24px\"viewBox=\"0 0 24 24\"\n",
              "       width=\"24px\">\n",
              "    <path d=\"M0 0h24v24H0V0z\" fill=\"none\"/>\n",
              "    <path d=\"M18.56 5.44l.94 2.06.94-2.06 2.06-.94-2.06-.94-.94-2.06-.94 2.06-2.06.94zm-11 1L8.5 8.5l.94-2.06 2.06-.94-2.06-.94L8.5 2.5l-.94 2.06-2.06.94zm10 10l.94 2.06.94-2.06 2.06-.94-2.06-.94-.94-2.06-.94 2.06-2.06.94z\"/><path d=\"M17.41 7.96l-1.37-1.37c-.4-.4-.92-.59-1.43-.59-.52 0-1.04.2-1.43.59L10.3 9.45l-7.72 7.72c-.78.78-.78 2.05 0 2.83L4 21.41c.39.39.9.59 1.41.59.51 0 1.02-.2 1.41-.59l7.78-7.78 2.81-2.81c.8-.78.8-2.07 0-2.86zM5.41 20L4 18.59l7.72-7.72 1.47 1.35L5.41 20z\"/>\n",
              "  </svg>\n",
              "      </button>\n",
              "      \n",
              "  <style>\n",
              "    .colab-df-container {\n",
              "      display:flex;\n",
              "      flex-wrap:wrap;\n",
              "      gap: 12px;\n",
              "    }\n",
              "\n",
              "    .colab-df-convert {\n",
              "      background-color: #E8F0FE;\n",
              "      border: none;\n",
              "      border-radius: 50%;\n",
              "      cursor: pointer;\n",
              "      display: none;\n",
              "      fill: #1967D2;\n",
              "      height: 32px;\n",
              "      padding: 0 0 0 0;\n",
              "      width: 32px;\n",
              "    }\n",
              "\n",
              "    .colab-df-convert:hover {\n",
              "      background-color: #E2EBFA;\n",
              "      box-shadow: 0px 1px 2px rgba(60, 64, 67, 0.3), 0px 1px 3px 1px rgba(60, 64, 67, 0.15);\n",
              "      fill: #174EA6;\n",
              "    }\n",
              "\n",
              "    [theme=dark] .colab-df-convert {\n",
              "      background-color: #3B4455;\n",
              "      fill: #D2E3FC;\n",
              "    }\n",
              "\n",
              "    [theme=dark] .colab-df-convert:hover {\n",
              "      background-color: #434B5C;\n",
              "      box-shadow: 0px 1px 3px 1px rgba(0, 0, 0, 0.15);\n",
              "      filter: drop-shadow(0px 1px 2px rgba(0, 0, 0, 0.3));\n",
              "      fill: #FFFFFF;\n",
              "    }\n",
              "  </style>\n",
              "\n",
              "      <script>\n",
              "        const buttonEl =\n",
              "          document.querySelector('#df-84d0e49f-ae68-442e-af03-d75d9dfb5d39 button.colab-df-convert');\n",
              "        buttonEl.style.display =\n",
              "          google.colab.kernel.accessAllowed ? 'block' : 'none';\n",
              "\n",
              "        async function convertToInteractive(key) {\n",
              "          const element = document.querySelector('#df-84d0e49f-ae68-442e-af03-d75d9dfb5d39');\n",
              "          const dataTable =\n",
              "            await google.colab.kernel.invokeFunction('convertToInteractive',\n",
              "                                                     [key], {});\n",
              "          if (!dataTable) return;\n",
              "\n",
              "          const docLinkHtml = 'Like what you see? Visit the ' +\n",
              "            '<a target=\"_blank\" href=https://colab.research.google.com/notebooks/data_table.ipynb>data table notebook</a>'\n",
              "            + ' to learn more about interactive tables.';\n",
              "          element.innerHTML = '';\n",
              "          dataTable['output_type'] = 'display_data';\n",
              "          await google.colab.output.renderOutput(dataTable, element);\n",
              "          const docLink = document.createElement('div');\n",
              "          docLink.innerHTML = docLinkHtml;\n",
              "          element.appendChild(docLink);\n",
              "        }\n",
              "      </script>\n",
              "    </div>\n",
              "  </div>\n",
              "  "
            ],
            "text/plain": [
              "     id       date    city       lat  ...  price  quantity  year month\n",
              "0  1222 2013-02-28  Athens  37.96245  ...   2.46     10709  2013     2\n",
              "1  1256 2013-02-28  Athens  37.97945  ...   1.91     12703  2013     2\n",
              "2  2325 2014-02-28  Athens  37.97945  ...   3.99      3642  2014     2\n",
              "3  2333 2014-02-28  Athens  37.96245  ...   2.82      9282  2014     2\n",
              "4  3334 2015-02-28  Athens  37.97945  ...   1.29     15782  2015     2\n",
              "\n",
              "[5 rows x 14 columns]"
            ]
          },
          "metadata": {},
          "execution_count": 34
        }
      ]
    },
    {
      "cell_type": "markdown",
      "source": [
        "### Interpret dataset\n",
        "Each line represents the montly sales volume and average price for a specific brand/bottle type of cola that was sold in a specific store within Greece \n",
        "\n",
        "\n"
      ],
      "metadata": {
        "id": "oJPKK8eH1eKY"
      }
    },
    {
      "cell_type": "markdown",
      "metadata": {
        "id": "8P-WwdbCY5NK"
      },
      "source": [
        "### Descriptive Statistics\n"
      ]
    },
    {
      "cell_type": "code",
      "source": [
        "#@title\n",
        "print(\"There are \" + str(df[['id']].nunique()[0]) + \" unique shops in this dataset\")\n",
        "df.describe()"
      ],
      "metadata": {
        "colab": {
          "base_uri": "https://localhost:8080/",
          "height": 318
        },
        "id": "gxm0zwhh_dsV",
        "outputId": "36003d6f-e8e0-4602-b746-45d595269884",
        "cellView": "form"
      },
      "execution_count": null,
      "outputs": [
        {
          "output_type": "stream",
          "name": "stdout",
          "text": [
            "There are 7560 unique shops in this dataset\n"
          ]
        },
        {
          "output_type": "execute_result",
          "data": {
            "text/html": [
              "\n",
              "  <div id=\"df-a0a07fba-2a5c-4c78-a06c-2d63f70ee2bd\">\n",
              "    <div class=\"colab-df-container\">\n",
              "      <div>\n",
              "<style scoped>\n",
              "    .dataframe tbody tr th:only-of-type {\n",
              "        vertical-align: middle;\n",
              "    }\n",
              "\n",
              "    .dataframe tbody tr th {\n",
              "        vertical-align: top;\n",
              "    }\n",
              "\n",
              "    .dataframe thead th {\n",
              "        text-align: right;\n",
              "    }\n",
              "</style>\n",
              "<table border=\"1\" class=\"dataframe\">\n",
              "  <thead>\n",
              "    <tr style=\"text-align: right;\">\n",
              "      <th></th>\n",
              "      <th>id</th>\n",
              "      <th>lat</th>\n",
              "      <th>long</th>\n",
              "      <th>pop</th>\n",
              "      <th>price</th>\n",
              "      <th>quantity</th>\n",
              "      <th>year</th>\n",
              "      <th>month</th>\n",
              "    </tr>\n",
              "  </thead>\n",
              "  <tbody>\n",
              "    <tr>\n",
              "      <th>count</th>\n",
              "      <td>7560.00000</td>\n",
              "      <td>7501.000000</td>\n",
              "      <td>7501.000000</td>\n",
              "      <td>7560.000000</td>\n",
              "      <td>7560.000000</td>\n",
              "      <td>7560.000000</td>\n",
              "      <td>7560.000000</td>\n",
              "      <td>7560.000000</td>\n",
              "    </tr>\n",
              "    <tr>\n",
              "      <th>mean</th>\n",
              "      <td>3779.50000</td>\n",
              "      <td>38.300808</td>\n",
              "      <td>23.270191</td>\n",
              "      <td>355174.095238</td>\n",
              "      <td>1.196049</td>\n",
              "      <td>29421.715212</td>\n",
              "      <td>2015.000000</td>\n",
              "      <td>6.500000</td>\n",
              "    </tr>\n",
              "    <tr>\n",
              "      <th>std</th>\n",
              "      <td>2182.52835</td>\n",
              "      <td>1.650503</td>\n",
              "      <td>1.087175</td>\n",
              "      <td>232441.012350</td>\n",
              "      <td>0.816838</td>\n",
              "      <td>17665.033867</td>\n",
              "      <td>2.000132</td>\n",
              "      <td>3.452281</td>\n",
              "    </tr>\n",
              "    <tr>\n",
              "      <th>min</th>\n",
              "      <td>0.00000</td>\n",
              "      <td>35.327870</td>\n",
              "      <td>21.734440</td>\n",
              "      <td>134219.000000</td>\n",
              "      <td>0.110000</td>\n",
              "      <td>2953.000000</td>\n",
              "      <td>2012.000000</td>\n",
              "      <td>1.000000</td>\n",
              "    </tr>\n",
              "    <tr>\n",
              "      <th>25%</th>\n",
              "      <td>1889.75000</td>\n",
              "      <td>37.962450</td>\n",
              "      <td>22.417610</td>\n",
              "      <td>141732.000000</td>\n",
              "      <td>0.620000</td>\n",
              "      <td>16572.750000</td>\n",
              "      <td>2013.000000</td>\n",
              "      <td>3.750000</td>\n",
              "    </tr>\n",
              "    <tr>\n",
              "      <th>50%</th>\n",
              "      <td>3779.50000</td>\n",
              "      <td>38.244440</td>\n",
              "      <td>22.930860</td>\n",
              "      <td>257501.500000</td>\n",
              "      <td>0.930000</td>\n",
              "      <td>25312.000000</td>\n",
              "      <td>2015.000000</td>\n",
              "      <td>6.500000</td>\n",
              "    </tr>\n",
              "    <tr>\n",
              "      <th>75%</th>\n",
              "      <td>5669.25000</td>\n",
              "      <td>39.636890</td>\n",
              "      <td>23.716220</td>\n",
              "      <td>665102.000000</td>\n",
              "      <td>1.510000</td>\n",
              "      <td>37751.500000</td>\n",
              "      <td>2017.000000</td>\n",
              "      <td>9.250000</td>\n",
              "    </tr>\n",
              "    <tr>\n",
              "      <th>max</th>\n",
              "      <td>7559.00000</td>\n",
              "      <td>40.643610</td>\n",
              "      <td>25.143410</td>\n",
              "      <td>672130.000000</td>\n",
              "      <td>4.790000</td>\n",
              "      <td>145287.000000</td>\n",
              "      <td>2018.000000</td>\n",
              "      <td>12.000000</td>\n",
              "    </tr>\n",
              "  </tbody>\n",
              "</table>\n",
              "</div>\n",
              "      <button class=\"colab-df-convert\" onclick=\"convertToInteractive('df-a0a07fba-2a5c-4c78-a06c-2d63f70ee2bd')\"\n",
              "              title=\"Convert this dataframe to an interactive table.\"\n",
              "              style=\"display:none;\">\n",
              "        \n",
              "  <svg xmlns=\"http://www.w3.org/2000/svg\" height=\"24px\"viewBox=\"0 0 24 24\"\n",
              "       width=\"24px\">\n",
              "    <path d=\"M0 0h24v24H0V0z\" fill=\"none\"/>\n",
              "    <path d=\"M18.56 5.44l.94 2.06.94-2.06 2.06-.94-2.06-.94-.94-2.06-.94 2.06-2.06.94zm-11 1L8.5 8.5l.94-2.06 2.06-.94-2.06-.94L8.5 2.5l-.94 2.06-2.06.94zm10 10l.94 2.06.94-2.06 2.06-.94-2.06-.94-.94-2.06-.94 2.06-2.06.94z\"/><path d=\"M17.41 7.96l-1.37-1.37c-.4-.4-.92-.59-1.43-.59-.52 0-1.04.2-1.43.59L10.3 9.45l-7.72 7.72c-.78.78-.78 2.05 0 2.83L4 21.41c.39.39.9.59 1.41.59.51 0 1.02-.2 1.41-.59l7.78-7.78 2.81-2.81c.8-.78.8-2.07 0-2.86zM5.41 20L4 18.59l7.72-7.72 1.47 1.35L5.41 20z\"/>\n",
              "  </svg>\n",
              "      </button>\n",
              "      \n",
              "  <style>\n",
              "    .colab-df-container {\n",
              "      display:flex;\n",
              "      flex-wrap:wrap;\n",
              "      gap: 12px;\n",
              "    }\n",
              "\n",
              "    .colab-df-convert {\n",
              "      background-color: #E8F0FE;\n",
              "      border: none;\n",
              "      border-radius: 50%;\n",
              "      cursor: pointer;\n",
              "      display: none;\n",
              "      fill: #1967D2;\n",
              "      height: 32px;\n",
              "      padding: 0 0 0 0;\n",
              "      width: 32px;\n",
              "    }\n",
              "\n",
              "    .colab-df-convert:hover {\n",
              "      background-color: #E2EBFA;\n",
              "      box-shadow: 0px 1px 2px rgba(60, 64, 67, 0.3), 0px 1px 3px 1px rgba(60, 64, 67, 0.15);\n",
              "      fill: #174EA6;\n",
              "    }\n",
              "\n",
              "    [theme=dark] .colab-df-convert {\n",
              "      background-color: #3B4455;\n",
              "      fill: #D2E3FC;\n",
              "    }\n",
              "\n",
              "    [theme=dark] .colab-df-convert:hover {\n",
              "      background-color: #434B5C;\n",
              "      box-shadow: 0px 1px 3px 1px rgba(0, 0, 0, 0.15);\n",
              "      filter: drop-shadow(0px 1px 2px rgba(0, 0, 0, 0.3));\n",
              "      fill: #FFFFFF;\n",
              "    }\n",
              "  </style>\n",
              "\n",
              "      <script>\n",
              "        const buttonEl =\n",
              "          document.querySelector('#df-a0a07fba-2a5c-4c78-a06c-2d63f70ee2bd button.colab-df-convert');\n",
              "        buttonEl.style.display =\n",
              "          google.colab.kernel.accessAllowed ? 'block' : 'none';\n",
              "\n",
              "        async function convertToInteractive(key) {\n",
              "          const element = document.querySelector('#df-a0a07fba-2a5c-4c78-a06c-2d63f70ee2bd');\n",
              "          const dataTable =\n",
              "            await google.colab.kernel.invokeFunction('convertToInteractive',\n",
              "                                                     [key], {});\n",
              "          if (!dataTable) return;\n",
              "\n",
              "          const docLinkHtml = 'Like what you see? Visit the ' +\n",
              "            '<a target=\"_blank\" href=https://colab.research.google.com/notebooks/data_table.ipynb>data table notebook</a>'\n",
              "            + ' to learn more about interactive tables.';\n",
              "          element.innerHTML = '';\n",
              "          dataTable['output_type'] = 'display_data';\n",
              "          await google.colab.output.renderOutput(dataTable, element);\n",
              "          const docLink = document.createElement('div');\n",
              "          docLink.innerHTML = docLinkHtml;\n",
              "          element.appendChild(docLink);\n",
              "        }\n",
              "      </script>\n",
              "    </div>\n",
              "  </div>\n",
              "  "
            ],
            "text/plain": [
              "               id          lat  ...         year        month\n",
              "count  7560.00000  7501.000000  ...  7560.000000  7560.000000\n",
              "mean   3779.50000    38.300808  ...  2015.000000     6.500000\n",
              "std    2182.52835     1.650503  ...     2.000132     3.452281\n",
              "min       0.00000    35.327870  ...  2012.000000     1.000000\n",
              "25%    1889.75000    37.962450  ...  2013.000000     3.750000\n",
              "50%    3779.50000    38.244440  ...  2015.000000     6.500000\n",
              "75%    5669.25000    39.636890  ...  2017.000000     9.250000\n",
              "max    7559.00000    40.643610  ...  2018.000000    12.000000\n",
              "\n",
              "[8 rows x 8 columns]"
            ]
          },
          "metadata": {},
          "execution_count": 35
        }
      ]
    },
    {
      "cell_type": "code",
      "source": [
        "#@title\n",
        "def Athens(Q_brand=True, Q_container=True, P_brand=True, P_container=True):\n",
        "\n",
        " # define independent variable X\n",
        "  X = df_city['mean_q']['Athens'][Q_brand][Q_container].values.reshape(-1,1) #convert to numpy array using \"values\"\n",
        "  # define dependent variable Y\n",
        "  Y = df_city['mean_p']['Athens'][P_brand][P_container].values.reshape(-1,1)\n",
        "\n",
        "  linear_regression = LinearRegression() # Create a linear_regression object\n",
        "  linear_regression.fit(X , Y)  # Fit the model\n",
        "  Y_pred = linear_regression.predict(X)  # Fits the Data Points \"X\" with the parameters from the Fit step to form a prediction\n",
        "\n",
        "  plt.scatter(X, Y)\n",
        "  plt.plot(X, Y_pred, color='red')\n",
        "\n",
        "\n",
        "  #plt.scatter( df_city['mean_p']['Athens'][P_brand][P_container], df_city['mean_q']['Athens'][Q_brand][Q_container])\n",
        "  #add title and axis labels\n",
        "  plt.title('Price and Quantity')\n",
        "  plt.xlabel('Quantity '+ \" \" + Q_brand+ \" \" + Q_container)\n",
        "  plt.ylabel('Price' +\" \" + P_brand + \" \" + P_container)\n",
        "\n",
        "  return plt.show()\n",
        "\n",
        "\n"
      ],
      "metadata": {
        "id": "oV5DW27yT9kW",
        "cellView": "form"
      },
      "execution_count": null,
      "outputs": []
    },
    {
      "cell_type": "code",
      "source": [
        "#@title\n",
        "import numpy as np\n",
        "from sklearn.linear_model import LinearRegression\n",
        "\n",
        "def own_price(Q_brand=True, Q_container=True, PricePoint=True):\n",
        "\n",
        "  Athens(Q_brand=Q_brand,Q_container=Q_container,P_brand=Q_brand,P_container=Q_container)\n",
        "  Qx = df_city['mean_q']['Athens'][Q_brand][Q_container].values.reshape(-1,1) #convert to numpy array using \"values\"\n",
        "  # define dependent variable Y\n",
        "  Px = df_city['mean_p']['Athens'][Q_brand][Q_container].values.reshape(-1,1)\n",
        "\n",
        "  reg = LinearRegression().fit(Px, Qx)\n",
        "  reg.score(Px, Qx)\n",
        "  P=PricePoint\n",
        "  Q_hat=reg.predict(np.array(P).reshape(-1, 1))\n",
        "  \n",
        "  return print('the price elaticity is '+ str(reg.coef_ * (P/Q_hat)))\n",
        "\n"
      ],
      "metadata": {
        "id": "wfGR-3gnGvHT",
        "cellView": "form"
      },
      "execution_count": null,
      "outputs": []
    },
    {
      "cell_type": "code",
      "source": [
        "#@title\n",
        "import numpy as np\n",
        "from sklearn.linear_model import LinearRegression\n",
        "\n",
        "\n",
        "def cross_price(Q_brand=True, Q_container=True, P_brand=True, P_container=True, PricePoint=True):\n",
        "\n",
        "  Athens(Q_brand=Q_brand,Q_container=Q_container,P_brand=P_brand,P_container=P_container)\n",
        "  Qx = df_city['mean_q']['Athens'][Q_brand][Q_container].values.reshape(-1,1) #convert to numpy array using \"values\"\n",
        "  # define dependent variable Y\n",
        "  Px1 = df_city['mean_p']['Athens'][Q_brand][Q_container].values.reshape(-1,1)\n",
        "  Px2 = df_city['mean_p']['Athens'][P_brand][P_container].values.reshape(-1,1)\n",
        "  Px = np.concatenate((Px1, Px2), axis=1)\n",
        "\n",
        "  mPx1 = np.mean(Px1)\n",
        "  \n",
        "\n",
        "  #mod = sm.OLS(Qx,Px)\n",
        "  #fii = mod.fit()\n",
        "  #p_values = fii.summary2().tables[1]['P>|t|']\n",
        "\n",
        "  reg = LinearRegression().fit(Px, Qx)\n",
        "  reg.score(Px, Qx)\n",
        "  P=np.array([[mPx1, PricePoint]])\n",
        "  Q_hat=reg.predict(P)\n",
        "  \n",
        "  return print('the cross-price-elasticity for ' + P_brand + ' is =' + str((reg.coef_ *(PricePoint/Q_hat))[0][1]))\n",
        "\n",
        "\n"
      ],
      "metadata": {
        "id": "QjdrQm0tQxTz",
        "cellView": "form"
      },
      "execution_count": null,
      "outputs": []
    },
    {
      "cell_type": "code",
      "source": [
        "#@title\n",
        "brands=['adult-cola', 'gazoza', 'kinder-cola', 'lemon-boost', 'orange-power']\n",
        "\n",
        "def cross_price_plot(brand=True, container=True):\n",
        "  for i in brands:\n",
        "    if i !=brand:\n",
        "      PricePoint=np.mean(df_city['mean_p']['Athens'][i][container])\n",
        "      cross_price(Q_brand=brand, Q_container=container, P_brand=i, P_container=container, PricePoint=PricePoint)"
      ],
      "metadata": {
        "id": "UIIXfhkFydgf",
        "cellView": "form"
      },
      "execution_count": null,
      "outputs": []
    },
    {
      "cell_type": "markdown",
      "source": [
        "# Skip to HERE \n",
        "\n",
        "\n",
        "**Complete the following steps**\n",
        "\n",
        "\n",
        "1.   Go to the Colab toolbar at the top of the page and click:  \n",
        "2.   Runtime --> Run Before\n",
        "\n",
        "\n",
        "Now you can **either** \n",
        "\n",
        "proceed to the Code-Playground below, where you can write your own functions\n",
        "\n",
        "**or**\n",
        "\n",
        "proceed to the Functions, Methods and Theories if you need to understand more about how to use the functions in this notebook"
      ],
      "metadata": {
        "id": "2BUlP4oNkCpG"
      }
    },
    {
      "cell_type": "code",
      "source": [
        "HTML('<iframe width=\"560\" height=\"315\" src=\"https://www.youtube.com/embed/ZajwdmX_S50\" title=\"YouTube video player\" frameborder=\"0\" allow=\"accelerometer; autoplay; clipboard-write; encrypted-media; gyroscope; picture-in-picture\" allowfullscreen></iframe>')"
      ],
      "metadata": {
        "id": "f9A7AZEpJ9F5",
        "outputId": "489e1cc6-dfec-4b11-c9ae-af1de4c4d98d",
        "colab": {
          "base_uri": "https://localhost:8080/",
          "height": 335
        }
      },
      "execution_count": null,
      "outputs": [
        {
          "output_type": "execute_result",
          "data": {
            "text/html": [
              "<iframe width=\"560\" height=\"315\" src=\"https://www.youtube.com/embed/ZajwdmX_S50\" title=\"YouTube video player\" frameborder=\"0\" allow=\"accelerometer; autoplay; clipboard-write; encrypted-media; gyroscope; picture-in-picture\" allowfullscreen></iframe>"
            ],
            "text/plain": [
              "<IPython.core.display.HTML object>"
            ]
          },
          "metadata": {},
          "execution_count": 40
        }
      ]
    },
    {
      "cell_type": "markdown",
      "source": [
        "# Code Playground\n",
        "Enter functions here or create your own code blocks anywhere else in the notebook.  Below is a short video about how to get started with Google Colab in case you are lost"
      ],
      "metadata": {
        "id": "IvLG2BYtv7sE"
      }
    },
    {
      "cell_type": "code",
      "source": [
        "# Your code here"
      ],
      "metadata": {
        "id": "1PGIUKmbwrNF"
      },
      "execution_count": null,
      "outputs": []
    },
    {
      "cell_type": "code",
      "source": [
        "# Your code here"
      ],
      "metadata": {
        "id": "d_z3SeX_w4TX"
      },
      "execution_count": null,
      "outputs": []
    },
    {
      "cell_type": "markdown",
      "source": [
        "# Functions, Methods and Theories "
      ],
      "metadata": {
        "id": "lXxopfMKv14j"
      }
    },
    {
      "cell_type": "markdown",
      "source": [
        "\n",
        "###**Price Elasticity of Demand Function**\n",
        "\n",
        "```\n",
        "own_price(Q_brand=True, Q_container=True, PricePoint=True)\n",
        "\n",
        "```\n",
        "Q_brand is one of ['adult-cola', 'gazoza', 'kinder-cola', 'lemon-boost', 'orange-power']\n",
        "\n",
        "Q_container is one of ['plastic', 'can', 'glass']\n",
        "\n",
        "The point elasticity is the number located at the bottom of the graph.*italicized text*\n",
        "\n",
        "Computes the price elasticity of demand for a brand, container type at a given Price Point.  You can enter different price points and evaluate how the elasticity of demand changes.  \n",
        "\n",
        "**NOTE** Be careful to enter prices that are reasonable (within the min and max of observable prices), but feel free to enter extreme values and see how the model behaves\n",
        "\n",
        "\n",
        "```"
      ],
      "metadata": {
        "id": "1kMJ12F6zVWY"
      }
    },
    {
      "cell_type": "markdown",
      "source": [
        "#### Example"
      ],
      "metadata": {
        "id": "e2yfIL2us5AM"
      }
    },
    {
      "cell_type": "code",
      "source": [
        "own_price(Q_brand='adult-cola', Q_container='plastic', PricePoint=2)\n"
      ],
      "metadata": {
        "id": "c4WQizCbbL9n",
        "outputId": "fe2bd04b-e91c-4abb-ceb5-0e83765e049d",
        "colab": {
          "base_uri": "https://localhost:8080/",
          "height": 313
        }
      },
      "execution_count": null,
      "outputs": [
        {
          "output_type": "display_data",
          "data": {
            "image/png": "[encoded data removed]",
            "text/plain": [
              "<Figure size 432x288 with 1 Axes>"
            ]
          },
          "metadata": {
            "needs_background": "light"
          }
        },
        {
          "output_type": "stream",
          "name": "stdout",
          "text": [
            "the price elaticity is [[-0.65615218]]\n"
          ]
        }
      ]
    },
    {
      "cell_type": "markdown",
      "source": [
        "### Cross-Price Elasticity of Demand"
      ],
      "metadata": {
        "id": "vxewbNRiSAec"
      }
    },
    {
      "cell_type": "markdown",
      "source": [
        "**Cross Price Elasticity of Demand Function**\n",
        "\n",
        "Computes the cross price elasticity of demand for a brand, container type at a given Price Point.  You can enter different price points and evaluate how the elasticity of demand changes.  \n",
        "\n",
        "\n",
        "```\n",
        "cross_price(Q_brand=True, Q_container=True, P_brand=True, P_container=True, PricePoint=True)\n",
        "```\n",
        "\n",
        "Q_brand and P_brand are one of ['adult-cola', 'gazoza', 'kinder-cola', 'lemon-boost', 'orange-power']\n",
        "\n",
        "\n",
        "Q_container and P_brand are one of ['plastic', 'can', 'glass']\n",
        "\n",
        "$\\frac{\\% \\Delta Q_x}{\\% \\Delta P_y}$ is the percentage change in the Quantity of good X induced by a percentage change in the Price of good Y.  \n",
        "\n",
        "**Note:** 2 goods need to be defined.  Goods in this dataset are defined by brand and container.  Thus the P_brand and P_container define the product on the denominator, while Q_brand and Q_container define the product on the numerator of $\\frac{\\% \\Delta Q_x}{\\% \\Delta P_y}$ \n",
        "\n",
        "\n",
        "**NOTE** Be careful to enter prices that are reasonable (within the min and max of observable prices), but feel free to enter extreme values and see how the model behaves"
      ],
      "metadata": {
        "id": "BQpyAuRoa5MO"
      }
    },
    {
      "cell_type": "markdown",
      "source": [
        "#### Example"
      ],
      "metadata": {
        "id": "ERbUm-QNcFd-"
      }
    },
    {
      "cell_type": "code",
      "source": [
        "cross_price(Q_brand='adult-cola',Q_container='can',P_brand='gazoza',P_container='glass',PricePoint=0.7)"
      ],
      "metadata": {
        "id": "Pbpo9MrGcMCT",
        "outputId": "fd6e3473-26b3-4174-b309-362505c05086",
        "colab": {
          "base_uri": "https://localhost:8080/",
          "height": 313
        }
      },
      "execution_count": null,
      "outputs": [
        {
          "output_type": "display_data",
          "data": {
            "image/png": "[encoded data removed]",
            "text/plain": [
              "<Figure size 432x288 with 1 Axes>"
            ]
          },
          "metadata": {
            "needs_background": "light"
          }
        },
        {
          "output_type": "stream",
          "name": "stdout",
          "text": [
            "the cross-price-elasticity for gazoza is =0.3161239529791243\n"
          ]
        }
      ]
    },
    {
      "cell_type": "markdown",
      "source": [
        "### Cross-Price Plot Function"
      ],
      "metadata": {
        "id": "ZCm4rbjqd0JS"
      }
    },
    {
      "cell_type": "markdown",
      "source": [
        "**Cross Price Plot**\n",
        "\n",
        "Calculates and plots multiple cross-price elasticities for a given brand and container.\n",
        "\n",
        "```\n",
        "cross_price_plot(brand=True, container=True)\n",
        "```\n"
      ],
      "metadata": {
        "id": "naE2S-Ara9yn"
      }
    },
    {
      "cell_type": "code",
      "source": [
        "cross_price_plot(brand='adult-cola', container='plastic')"
      ],
      "metadata": {
        "id": "edOO5BC_a9Ws",
        "outputId": "f6a0e8be-7cbe-4d9c-c31e-79cebfd2eafb",
        "colab": {
          "base_uri": "https://localhost:8080/",
          "height": 1000
        }
      },
      "execution_count": null,
      "outputs": [
        {
          "output_type": "display_data",
          "data": {
            "image/png": "[encoded data removed]",
            "text/plain": [
              "<Figure size 432x288 with 1 Axes>"
            ]
          },
          "metadata": {
            "needs_background": "light"
          }
        },
        {
          "output_type": "stream",
          "name": "stdout",
          "text": [
            "the cross-price-elasticity for gazoza is =0.17819199077580666\n"
          ]
        },
        {
          "output_type": "display_data",
          "data": {
            "image/png": "[encoded data removed]",
            "text/plain": [
              "<Figure size 432x288 with 1 Axes>"
            ]
          },
          "metadata": {
            "needs_background": "light"
          }
        },
        {
          "output_type": "stream",
          "name": "stdout",
          "text": [
            "the cross-price-elasticity for kinder-cola is =0.0909081976134235\n"
          ]
        },
        {
          "output_type": "display_data",
          "data": {
            "image/png": "[encoded data removed]",
            "text/plain": [
              "<Figure size 432x288 with 1 Axes>"
            ]
          },
          "metadata": {
            "needs_background": "light"
          }
        },
        {
          "output_type": "stream",
          "name": "stdout",
          "text": [
            "the cross-price-elasticity for lemon-boost is =0.04662474046011142\n"
          ]
        },
        {
          "output_type": "display_data",
          "data": {
            "image/png": "[encoded data removed]",
            "text/plain": [
              "<Figure size 432x288 with 1 Axes>"
            ]
          },
          "metadata": {
            "needs_background": "light"
          }
        },
        {
          "output_type": "stream",
          "name": "stdout",
          "text": [
            "the cross-price-elasticity for orange-power is =0.05720594606496297\n"
          ]
        }
      ]
    },
    {
      "cell_type": "markdown",
      "source": [
        "# Interpreting Results\n",
        "Elasticity is defined in terms of percentage change and this changes depending on where we are along the demand curve \n",
        "\n",
        "Your textbook gives you a formula for calculating percentage change using the mid-point-method.  I will use a different method, which is based on Linear Regression.  This method allows us to evaluate price elasticity for a specific price point on the demand curve.  \n",
        "\n",
        "A high level overview of regression methods is located in a separate section above.  \n",
        "\n",
        "The key point to remember is that we still have only correlation, NOT causation.  Causation is what we would like to have.  In words, we would like to know the percentage change in quanitity demand that results from a percentage change in price.  HOWEVER, our data is from market outcomes (prices and quanitities) that are influenced by BOTH supply AND demand.  Thus our data is NOT a pure relationship between price and quanitity.  We need more advanced statistics to get a causal relationship. "
      ],
      "metadata": {
        "id": "BLQs9l24lg7n"
      }
    },
    {
      "cell_type": "markdown",
      "source": [
        "#### Evaluating impact of price changes on Revenues \n",
        "Should a price be increased or decreased?  If we are only concerned about the impact on revenues then elasticity is the metric that we want to focus on.\n",
        "\n",
        "**Relevant Function**\n",
        "\n",
        "```\n",
        "own_price(Q_brand=True, Q_container=True, PricePoint=True)\n",
        "\n",
        "```"
      ],
      "metadata": {
        "id": "H7MPFZ3QkMVH"
      }
    },
    {
      "cell_type": "code",
      "source": [
        "HTML('<iframe width=\"560\" height=\"315\" src=\"https://www.youtube.com/embed/GIPX-bnZ6Ao?start=562\" title=\"YouTube video player\" frameborder=\"0\" allow=\"accelerometer; autoplay; clipboard-write; encrypted-media; gyroscope; picture-in-picture\" allowfullscreen></iframe>')"
      ],
      "metadata": {
        "id": "Ijb8YANLlw52",
        "outputId": "60ad15ef-4b64-4dc7-cc21-8b255598e4a7",
        "colab": {
          "base_uri": "https://localhost:8080/",
          "height": 335
        }
      },
      "execution_count": null,
      "outputs": [
        {
          "output_type": "execute_result",
          "data": {
            "text/html": [
              "<iframe width=\"560\" height=\"315\" src=\"https://www.youtube.com/embed/GIPX-bnZ6Ao?start=562\" title=\"YouTube video player\" frameborder=\"0\" allow=\"accelerometer; autoplay; clipboard-write; encrypted-media; gyroscope; picture-in-picture\" allowfullscreen></iframe>"
            ],
            "text/plain": [
              "<IPython.core.display.HTML object>"
            ]
          },
          "metadata": {},
          "execution_count": 46
        }
      ]
    },
    {
      "cell_type": "markdown",
      "source": [
        "#### Application:  Revenue Canibalism \n",
        "Consider that if two goods, within a firm's product basket, are substitutes, then a promoting one product with a price decrease can canibalize the sale of another product in your brand, thus reducing or even having a negative impact on your overall revenues.  \n",
        "\n",
        "Consider Total Revenue from two goods X and Y, so that total revenue $R$ is composed of revenue from good X, $R_x$, and revenue from good Y, $R_y$\n",
        "$$R = R_x + R_y$$\n",
        "\n",
        "Now consider the managerial question:  Should I drop prices to promote good X?  We first need to ask, \"what is the revenue impact on good X?\"  Consider the elasticity of good X for this answer $\\frac{\\% \\Delta Q_x}{\\% \\Delta P_x}$.  Secondly, we also need to consider what impact a price change on x will have on the revenue of good Y.  The price of good Y is not changing.  The only potential change in revenue comes from the changing Quantity of Y, which might change either up or down depending on the cross-price-elasticity: $\\frac{\\% \\Delta Q_y}{\\% \\Delta P_x}$\n",
        "\n",
        "You should have a firm grasp on the cutoffs for cross-price-elasticity: the values that determine if goods are substitutes or complements.  \n",
        "\n",
        "\n",
        "Remember, if the elasticity is negative then that means that the numerator and denominator are inversely related.  If the elasticity is positive then the numerator and denominator both move in the same direction together, either both up or both down.  \n"
      ],
      "metadata": {
        "id": "fsD4C3kMeBgk"
      }
    },
    {
      "cell_type": "markdown",
      "source": [
        "### Evaluating Competition\n",
        "We can use an analysis of cross-price-elasticity to estimate which brands are in competition with one another, which are not and the degree of substitution or complementarity. \n",
        "\n",
        "Goods that are stronger substitutes can be considered to be in greater competition with one another.  We can evaluate the degree of substitution by comparing relevant cross-price-elasticities of different goods. \n",
        "\n",
        "**Think about it**  If $\\frac{\\% \\Delta Q_y}{\\% \\Delta P_x}$ is high then does this imply that $\\frac{\\% \\Delta Q_x}{\\% \\Delta P_y}$ is also high?\n",
        "\n",
        "Let the data speak on this point and see if you can think of a way to make sense of the data patterns that you find."
      ],
      "metadata": {
        "id": "4ikjvf35qgGX"
      }
    },
    {
      "cell_type": "markdown",
      "source": [
        "# Extra Stuff - Not Required"
      ],
      "metadata": {
        "id": "bTkluhQNtZLF"
      }
    },
    {
      "cell_type": "code",
      "source": [
        "HTML('<iframe width=\"560\" height=\"315\" src=\"https://www.youtube.com/embed/AzjHTYT8nyU\" title=\"YouTube video player\" frameborder=\"0\" allow=\"accelerometer; autoplay; clipboard-write; encrypted-media; gyroscope; picture-in-picture\" allowfullscreen></iframe>')"
      ],
      "metadata": {
        "id": "QnUOMDglKE9k",
        "outputId": "73e61ff7-a0c9-4d5d-a02e-9a8777d3e98c",
        "colab": {
          "base_uri": "https://localhost:8080/",
          "height": 335
        }
      },
      "execution_count": null,
      "outputs": [
        {
          "output_type": "execute_result",
          "data": {
            "text/html": [
              "<iframe width=\"560\" height=\"315\" src=\"https://www.youtube.com/embed/AzjHTYT8nyU\" title=\"YouTube video player\" frameborder=\"0\" allow=\"accelerometer; autoplay; clipboard-write; encrypted-media; gyroscope; picture-in-picture\" allowfullscreen></iframe>"
            ],
            "text/plain": [
              "<IPython.core.display.HTML object>"
            ]
          },
          "metadata": {},
          "execution_count": 47
        }
      ]
    },
    {
      "cell_type": "markdown",
      "source": [
        "## Regression Methods of Estimating Elasticity\n",
        "This section is optional but may help you to understand what is going on under the hood\n",
        "\n",
        "#### What is the best fit line that can possibly be made given the data?  \n",
        "\n",
        "# $Y = \\beta_x X + \\beta_0 + \\epsilon$\n",
        "Think $Y=mX+b$ where $m=\\beta_x$ and $b=\\beta_0$ and $\\epsilon$ is an error term\n",
        "\n",
        "#### If the data is given then a line is defined by the coefficients $\\beta_x , \\beta_0$\n",
        "\n",
        "#### Find the \"best\" values of $\\beta_x , \\beta_0$.  where \"best\" minimizes statistical error $\\epsilon$\n",
        "\n",
        "How can we sum up all errors?  Some are positive and some are negative?  Solution: define the error as the squared error loss $$\\sum\\epsilon^2$$ \n",
        "\n",
        "# Own Price-Elasticity of Demand\n",
        "# $Q_x = \\beta_0 + \\beta_x P_x + \\epsilon$\n",
        "where: \n",
        "\n",
        "*   $Q_x$ is the quantity of good X\n",
        "*   $P_x$ is the price of good X\n",
        "*   $P_y$ is the price of good Y\n",
        "\n",
        "The Price-Elasticity of Demand is given by:\n",
        "\n",
        "$\\frac{\\Delta Q_x}{\\Delta P_x} \\frac{P_x}{Q_x} = \\beta_x \\frac{P_x}{Q_x}$\n",
        "\n",
        "# Cross-Price-Elasticity\n",
        "\n",
        "# $Q_x = \\beta_0 + \\beta_x P_x + \\beta_y P_y + \\epsilon$\n",
        "where: \n",
        "\n",
        "\n",
        "*   $Q_x$ is the quantity of good X\n",
        "*   $P_x$ is the price of good X\n",
        "*   $P_y$ is the price of good Y\n",
        "\n"
      ],
      "metadata": {
        "id": "Tt7B62kOGsH4"
      }
    }
  ]
}