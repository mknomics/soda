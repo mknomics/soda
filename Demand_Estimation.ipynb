{
  "nbformat": 4,
  "nbformat_minor": 0,
  "metadata": {
    "colab": {
      "name": "Demand Estimation.ipynb",
      "provenance": [],
      "collapsed_sections": []
    },
    "kernelspec": {
      "name": "python3",
      "display_name": "Python 3"
    },
    "language_info": {
      "name": "python"
    }
  },
  "cells": [
    {
      "cell_type": "markdown",
      "metadata": {
        "id": "9e89OXyeGkt4"
      },
      "source": [
        "# Register your newberry.edu account on https://www.kaggle.com \n",
        "#### Complete Python Tutorial for a 2 percent* bump in your final grade https://www.kaggle.com/learn/python\n",
        "#### Complete Pandas Course for 2 percent* bump in your final grade https://www.kaggle.com/learn/pandas\n",
        "#### Complete Time Series Course for 4 percent*  bump in your final grade https://www.kaggle.com/ryanholbrook/linear-regression-with-time-series\n",
        "\n",
        "*You may need to demonstrate competancy to get the full credit "
      ]
    },
    {
      "cell_type": "markdown",
      "metadata": {
        "id": "FWPyBfM5C3Lk"
      },
      "source": [
        "# Run the following code by clicking on a cell and then pressing 'ctrl'+'Enter' "
      ]
    },
    {
      "cell_type": "markdown",
      "metadata": {
        "id": "L66LfXubDJGn"
      },
      "source": [
        "Read each of the comments to understand what each line of code does"
      ]
    },
    {
      "cell_type": "code",
      "metadata": {
        "id": "RIH41nyPcWpV"
      },
      "source": [
        "import pandas as pd  #pandas is good for data manipulation.  I rename it here as \"pd\" to make it easier to call in the script below.  I could rename it anything I want but \"pd\" is standard\n",
        "import matplotlib.pyplot as plt #matplotlib is a good package for graphing.  Again, I rename it plt to make coding more simple\n",
        "\n",
        "\n",
        "import numpy as np #numpy is a good package for doing calculations\n",
        "from sklearn.linear_model import LinearRegression  #sklearn is a package that is good at estimation.  Tons of models are available and here I import LinearRegression because that's all I need\n",
        "\n",
        "pd.set_option('display.max_rows', None) # This is just configuring how pandas displays results.  Without this line of code then pandas would only display a partial set of the output when the output is long.  I want to see it all.\n",
        "\n",
        "#Import a csv file from a target url:  What is a csv file?  Go to the url below to see the raw data.  columns are separated by a \",\" and the last column lacks a \",\"\n",
        "data_url='https://raw.githubusercontent.com/mknomics/soda/main/soda.csv' # I define a string variable using apostrophe ' but I could ahve also used quotes \" \".  I just cannot mix apostophe and quotes in the same line\n",
        "\n",
        "df = pd.read_csv(data_url) # This line creates a pandas DataFrame that I defined as \"df\".  I could have called it anything I want\n",
        "\n",
        "\n",
        "\n",
        "\n"
      ],
      "execution_count": 64,
      "outputs": []
    },
    {
      "cell_type": "code",
      "metadata": {
        "colab": {
          "base_uri": "https://localhost:8080/"
        },
        "id": "giLBsgVvPQUk",
        "outputId": "515c9733-9cb2-40c5-9198-540b2a3cc967"
      },
      "source": [
        "df.dtypes"
      ],
      "execution_count": 65,
      "outputs": [
        {
          "output_type": "execute_result",
          "data": {
            "text/plain": [
              "id             int64\n",
              "date          object\n",
              "city          object\n",
              "lat          float64\n",
              "long         float64\n",
              "pop            int64\n",
              "shop          object\n",
              "brand         object\n",
              "container     object\n",
              "capacity      object\n",
              "price        float64\n",
              "quantity       int64\n",
              "dtype: object"
            ]
          },
          "metadata": {},
          "execution_count": 65
        }
      ]
    },
    {
      "cell_type": "markdown",
      "metadata": {
        "id": "KVZ3mQCvQJ6A"
      },
      "source": [
        "# What do these data types mean?  https://www.Google.com search will be your best friend.  What would you search?  Well, we are in Pandas and the method was dtypes so how about \"Pandas dtypes\""
      ]
    },
    {
      "cell_type": "code",
      "metadata": {
        "id": "dthKZdjHQJQX"
      },
      "source": [
        ""
      ],
      "execution_count": null,
      "outputs": []
    },
    {
      "cell_type": "code",
      "metadata": {
        "id": "lIZkE4OTPmPp"
      },
      "source": [
        "# Set my date objects.  This must be done so that 'date' is recognized as a date and not just a random string variable\n",
        "df['date']=pd.to_datetime(df['date']) #make date a datetime object\n",
        "df['year']=pd.DatetimeIndex(df['date']).year # I define a variable 'year' using the DatetimeIndex method\n",
        "df['month']=pd.DatetimeIndex(df['date']).month # similarly I repeat and define 'month'\n"
      ],
      "execution_count": 66,
      "outputs": []
    },
    {
      "cell_type": "code",
      "metadata": {
        "colab": {
          "base_uri": "https://localhost:8080/"
        },
        "id": "mjaKWp6dPuBq",
        "outputId": "de893301-764f-4dc7-9667-c6a003bc4be9"
      },
      "source": [
        "# Now what are the data types of each variable?\n",
        "df.dtypes"
      ],
      "execution_count": 67,
      "outputs": [
        {
          "output_type": "execute_result",
          "data": {
            "text/plain": [
              "id                    int64\n",
              "date         datetime64[ns]\n",
              "city                 object\n",
              "lat                 float64\n",
              "long                float64\n",
              "pop                   int64\n",
              "shop                 object\n",
              "brand                object\n",
              "container            object\n",
              "capacity             object\n",
              "price               float64\n",
              "quantity              int64\n",
              "year                  int64\n",
              "month                 int64\n",
              "dtype: object"
            ]
          },
          "metadata": {},
          "execution_count": 67
        }
      ]
    },
    {
      "cell_type": "markdown",
      "metadata": {
        "id": "rBErlJkoNsUM"
      },
      "source": [
        "# Try running each of these lines separately "
      ]
    },
    {
      "cell_type": "code",
      "metadata": {
        "colab": {
          "base_uri": "https://localhost:8080/",
          "height": 296
        },
        "id": "xitig2scGMkL",
        "outputId": "c71d818e-2747-4d14-c712-c99a0ccec280"
      },
      "source": [
        "df\n",
        "df.head()\n",
        "df['price'] # call a single column\n",
        "df[['price','quantity']] # call multiple columns; use double brackets\n",
        "df.describe() # Summary Statistics\n",
        "df.describe().transpose() # transpose flips results\n",
        "df.groupby(['brand','capacity'])['price'].describe()\n",
        "df.groupby(['date'])['price'].mean().plot()  #interpret this line of code\n",
        "df.groupby(['brand','capacity'])['price'].mean() # what does this line of code do? \n",
        "df['date'].max()-df['date'].min()  #what does this line of code tell me?"
      ],
      "execution_count": 60,
      "outputs": [
        {
          "output_type": "execute_result",
          "data": {
            "text/plain": [
              "Timedelta('2526 days 00:00:00')"
            ]
          },
          "metadata": {},
          "execution_count": 60
        },
        {
          "output_type": "display_data",
          "data": {
            "image/png": "[encoded data removed]",
            "text/plain": [
              "<Figure size 432x288 with 1 Axes>"
            ]
          },
          "metadata": {
            "needs_background": "light"
          }
        }
      ]
    },
    {
      "cell_type": "markdown",
      "metadata": {
        "id": "4HfidCXDD0oZ"
      },
      "source": [
        "# Task for you to do\n",
        "### 1) create a new code block below this text block\n",
        "### 2) modify the code in the previous block to answer the following questions\n",
        "\n",
        "### What is the average price of all Kinder-Cola products?\n",
        "\n",
        "### Is there seasonal variation in total quantity of all soda? (hint: plot it and see)\n",
        "\n",
        "### What is the maximum price for each brand (hint: use .max() method)\n"
      ]
    },
    {
      "cell_type": "markdown",
      "metadata": {
        "id": "hyYZVQFVQ8dj"
      },
      "source": [
        "# Call your data based on a condition using \"loc\" method\n",
        "#### Conditions are { and = & ; or = |  ; not = != and equal = \"==\"} YES I TYPED TWO EQUAL SIGNS IN THE LAST CONDITION\n",
        "\n",
        "#### Syntax for single condition is: \"df[(condition 1)]\" \n",
        "#### Syntax for multiple conditions are: \"df[(condition 1) logical operator (condition 2)]\" "
      ]
    },
    {
      "cell_type": "code",
      "metadata": {
        "colab": {
          "base_uri": "https://localhost:8080/",
          "height": 238
        },
        "id": "8dCYfYCuRiW6",
        "outputId": "b8478dba-480d-4e8f-b683-1489474e9bd3"
      },
      "source": [
        "df[(df['brand']=='adult-cola')]\n",
        "# now we can do some stuff with a particular slice if we want.  In the line below we just calculate the mean\n",
        "df[(df['brand']=='adult-cola')].mean()\n",
        "\n",
        "# what if I want to list adult-cola in Athens?  Now I need 2 conditions that are paird by the \"and\" logical operator.  adult-cola AND Athens\n",
        "df[(df['brand']=='adult-cola') & (df['city']=='Athens')].head() # I finished with the head() method so I don't have to see all output"
      ],
      "execution_count": 70,
      "outputs": [
        {
          "output_type": "stream",
          "name": "stderr",
          "text": [
            "/usr/local/lib/python3.7/dist-packages/ipykernel_launcher.py:3: FutureWarning: DataFrame.mean and DataFrame.median with numeric_only=None will include datetime64 and datetime64tz columns in a future version.\n",
            "  This is separate from the ipykernel package so we can avoid doing imports until\n"
          ]
        },
        {
          "output_type": "execute_result",
          "data": {
            "text/html": [
              "<div>\n",
              "<style scoped>\n",
              "    .dataframe tbody tr th:only-of-type {\n",
              "        vertical-align: middle;\n",
              "    }\n",
              "\n",
              "    .dataframe tbody tr th {\n",
              "        vertical-align: top;\n",
              "    }\n",
              "\n",
              "    .dataframe thead th {\n",
              "        text-align: right;\n",
              "    }\n",
              "</style>\n",
              "<table border=\"1\" class=\"dataframe\">\n",
              "  <thead>\n",
              "    <tr style=\"text-align: right;\">\n",
              "      <th></th>\n",
              "      <th>id</th>\n",
              "      <th>date</th>\n",
              "      <th>city</th>\n",
              "      <th>lat</th>\n",
              "      <th>long</th>\n",
              "      <th>pop</th>\n",
              "      <th>shop</th>\n",
              "      <th>brand</th>\n",
              "      <th>container</th>\n",
              "      <th>capacity</th>\n",
              "      <th>price</th>\n",
              "      <th>quantity</th>\n",
              "      <th>year</th>\n",
              "      <th>month</th>\n",
              "    </tr>\n",
              "  </thead>\n",
              "  <tbody>\n",
              "    <tr>\n",
              "      <th>0</th>\n",
              "      <td>1222</td>\n",
              "      <td>2013-02-28</td>\n",
              "      <td>Athens</td>\n",
              "      <td>37.96245</td>\n",
              "      <td>23.68708</td>\n",
              "      <td>671022</td>\n",
              "      <td>shop_3</td>\n",
              "      <td>adult-cola</td>\n",
              "      <td>plastic</td>\n",
              "      <td>1.5lt</td>\n",
              "      <td>2.46</td>\n",
              "      <td>10709</td>\n",
              "      <td>2013</td>\n",
              "      <td>2</td>\n",
              "    </tr>\n",
              "    <tr>\n",
              "      <th>1</th>\n",
              "      <td>1256</td>\n",
              "      <td>2013-02-28</td>\n",
              "      <td>Athens</td>\n",
              "      <td>37.97945</td>\n",
              "      <td>23.71622</td>\n",
              "      <td>671022</td>\n",
              "      <td>shop_1</td>\n",
              "      <td>adult-cola</td>\n",
              "      <td>plastic</td>\n",
              "      <td>1.5lt</td>\n",
              "      <td>1.91</td>\n",
              "      <td>12703</td>\n",
              "      <td>2013</td>\n",
              "      <td>2</td>\n",
              "    </tr>\n",
              "    <tr>\n",
              "      <th>2</th>\n",
              "      <td>2325</td>\n",
              "      <td>2014-02-28</td>\n",
              "      <td>Athens</td>\n",
              "      <td>37.97945</td>\n",
              "      <td>23.71622</td>\n",
              "      <td>668203</td>\n",
              "      <td>shop_1</td>\n",
              "      <td>adult-cola</td>\n",
              "      <td>plastic</td>\n",
              "      <td>1.5lt</td>\n",
              "      <td>3.99</td>\n",
              "      <td>3642</td>\n",
              "      <td>2014</td>\n",
              "      <td>2</td>\n",
              "    </tr>\n",
              "    <tr>\n",
              "      <th>3</th>\n",
              "      <td>2333</td>\n",
              "      <td>2014-02-28</td>\n",
              "      <td>Athens</td>\n",
              "      <td>37.96245</td>\n",
              "      <td>23.68708</td>\n",
              "      <td>668203</td>\n",
              "      <td>shop_3</td>\n",
              "      <td>adult-cola</td>\n",
              "      <td>plastic</td>\n",
              "      <td>1.5lt</td>\n",
              "      <td>2.82</td>\n",
              "      <td>9282</td>\n",
              "      <td>2014</td>\n",
              "      <td>2</td>\n",
              "    </tr>\n",
              "    <tr>\n",
              "      <th>4</th>\n",
              "      <td>3334</td>\n",
              "      <td>2015-02-28</td>\n",
              "      <td>Athens</td>\n",
              "      <td>37.97945</td>\n",
              "      <td>23.71622</td>\n",
              "      <td>667237</td>\n",
              "      <td>shop_1</td>\n",
              "      <td>adult-cola</td>\n",
              "      <td>plastic</td>\n",
              "      <td>1.5lt</td>\n",
              "      <td>1.29</td>\n",
              "      <td>15782</td>\n",
              "      <td>2015</td>\n",
              "      <td>2</td>\n",
              "    </tr>\n",
              "  </tbody>\n",
              "</table>\n",
              "</div>"
            ],
            "text/plain": [
              "     id       date    city       lat  ...  price  quantity  year month\n",
              "0  1222 2013-02-28  Athens  37.96245  ...   2.46     10709  2013     2\n",
              "1  1256 2013-02-28  Athens  37.97945  ...   1.91     12703  2013     2\n",
              "2  2325 2014-02-28  Athens  37.97945  ...   3.99      3642  2014     2\n",
              "3  2333 2014-02-28  Athens  37.96245  ...   2.82      9282  2014     2\n",
              "4  3334 2015-02-28  Athens  37.97945  ...   1.29     15782  2015     2\n",
              "\n",
              "[5 rows x 14 columns]"
            ]
          },
          "metadata": {},
          "execution_count": 70
        }
      ]
    },
    {
      "cell_type": "markdown",
      "metadata": {
        "id": "VHc09VFKT9L2"
      },
      "source": [
        "# Demand Estimation:  We want to find a pure relationship between price and quantity, one that is not statistically influenced by other factors, but it turns out it is hard to get that pure relationship  \n",
        "### Naive approach to Demand Estimation \n",
        "#### Aggregate data for a single product, in a single metropolitan market, and then consider a single year of data points\n",
        "### Big question: In this set-up, what other factors are influncing quantity besides price changes? "
      ]
    },
    {
      "cell_type": "code",
      "metadata": {
        "colab": {
          "base_uri": "https://localhost:8080/",
          "height": 299
        },
        "id": "9xIWmlBI5Y6c",
        "outputId": "12ed7342-e0f9-4f82-976a-77bbaa42c506"
      },
      "source": [
        "# Let's go with the approach anyway\n",
        "\n",
        "df2=df.groupby(['brand','container','city','date'])['price','quantity', 'year','month'].mean().reset_index() # Ignoring \"reset_index() method, what else did this do?  Did I do it right?\n",
        "\n",
        "\n",
        "df2.loc[(df2['container']=='plastic') & (df2['city']=='Athens') & (df2['brand']=='adult-cola')].pivot(index='date', columns=['city','brand','container'], values=['price','quantity'])\n",
        "\n",
        "df2.pivot(index='date', columns=['city','brand','container'], values=['price','quantity'])\n",
        "cola = df2.loc[(df2['container']=='plastic') & (df2['brand']=='adult-cola')&(df2['city']=='Athens') & (df2['year']==2013) ]\n",
        "plt.scatter(cola['quantity'],cola['price'])\n",
        "plt.show()\n",
        "\n"
      ],
      "execution_count": 26,
      "outputs": [
        {
          "output_type": "stream",
          "name": "stderr",
          "text": [
            "/usr/local/lib/python3.7/dist-packages/ipykernel_launcher.py:1: FutureWarning: Indexing with multiple keys (implicitly converted to a tuple of keys) will be deprecated, use a list instead.\n",
            "  \"\"\"Entry point for launching an IPython kernel.\n"
          ]
        },
        {
          "output_type": "display_data",
          "data": {
            "image/png": "[encoded data removed]",
            "text/plain": [
              "<Figure size 432x288 with 1 Axes>"
            ]
          },
          "metadata": {
            "needs_background": "light"
          }
        }
      ]
    },
    {
      "cell_type": "markdown",
      "metadata": {
        "id": "aGXwUkglWlUi"
      },
      "source": [
        "# Linear Regression Methods\n",
        "\n",
        "## What is the best fit line that can possibly be made given the data?  \n",
        "\n",
        "# $Y = \\beta_x X + \\beta_0 + \\epsilon$\n",
        "## Think $Y=mX+b$ where $m=\\beta_x$ and $b=\\beta_0$ and $\\epsilon$ is an error term\n",
        "\n",
        "## If the data is given then a line is defined by the coefficients $\\beta_x , \\beta_0$\n",
        "\n",
        "### Find the \"best\" values of $\\beta_x , \\beta_0$.  where \"best\" minimizes statistical error $\\epsilon$\n",
        "\n",
        "How can we sum up all errors?  Some are positive and some are negative?  Solution: define the error as the squared error loss $$\\sum\\epsilon^2$$ "
      ]
    },
    {
      "cell_type": "code",
      "metadata": {
        "colab": {
          "base_uri": "https://localhost:8080/",
          "height": 265
        },
        "id": "lc7OMwXn-FTV",
        "outputId": "460500dd-1ee1-4bbd-dcec-b9802ce6d9fc"
      },
      "source": [
        "X = cola['quantity'].values.reshape(-1,1) #convert to numpy array using \"values\"\n",
        "Y = cola['price'].values.reshape(-1,1)\n",
        "linear_regression = LinearRegression() # Create a linear_regression object\n",
        "linear_regression.fit(X , Y)  # Fit the model\n",
        "Y_pred = linear_regression.predict(X)  # Fits the Data Points \"X\" with the parameters from the Fit step to form a prediction\n",
        "\n",
        "plt.scatter(X, Y)\n",
        "plt.plot(X, Y_pred, color='red')\n",
        "plt.show()"
      ],
      "execution_count": 27,
      "outputs": [
        {
          "output_type": "display_data",
          "data": {
            "image/png": "[encoded data removed]",
            "text/plain": [
              "<Figure size 432x288 with 1 Axes>"
            ]
          },
          "metadata": {
            "needs_background": "light"
          }
        }
      ]
    },
    {
      "cell_type": "markdown",
      "metadata": {
        "id": "0xbflJKpWHm4"
      },
      "source": [
        "# Below are some data cleaning tasks that need to be done before running any model.  Cleaning data is a big challenge that I am breezing over here. "
      ]
    },
    {
      "cell_type": "code",
      "metadata": {
        "colab": {
          "base_uri": "https://localhost:8080/",
          "height": 205
        },
        "id": "lD8yJoFtmMhl",
        "outputId": "e59f60a6-f156-49b9-d000-a07b2228b8e9"
      },
      "source": [
        "# Check missing values\n",
        "#df['container'].cat.add_categories('No Record', inplace=True)\n",
        "pd.crosstab(df['capacity'].fillna('No Record'),df['container'].fillna('No Record'))\n",
        "\n",
        "# Notice all plastic are 1.5lt, all glass are 500ml and all can are 330ml.\n",
        "df.loc[df.capacity=='500ml','container']='glass'\n",
        "df.loc[df.capacity=='330ml','container']='can'\n",
        "df.loc[df.capacity=='1.5lt','container']='plastic'\n",
        "\n",
        "df.loc[df.capacity=='glass','container']='500ml'\n",
        "df.loc[df.capacity=='can','container']='330ml'\n",
        "df.loc[df.capacity=='plastic','container']='1.5lt'\n",
        "\n",
        "# there are some empty rows\n",
        "df.dropna(axis=0, inplace=True)\n",
        "\n",
        "pd.crosstab(df['container'].fillna('No Record'), df['capacity'].fillna('No Record'))\n",
        "df.head()"
      ],
      "execution_count": null,
      "outputs": [
        {
          "output_type": "execute_result",
          "data": {
            "text/html": [
              "<div>\n",
              "<style scoped>\n",
              "    .dataframe tbody tr th:only-of-type {\n",
              "        vertical-align: middle;\n",
              "    }\n",
              "\n",
              "    .dataframe tbody tr th {\n",
              "        vertical-align: top;\n",
              "    }\n",
              "\n",
              "    .dataframe thead th {\n",
              "        text-align: right;\n",
              "    }\n",
              "</style>\n",
              "<table border=\"1\" class=\"dataframe\">\n",
              "  <thead>\n",
              "    <tr style=\"text-align: right;\">\n",
              "      <th></th>\n",
              "      <th>id</th>\n",
              "      <th>date</th>\n",
              "      <th>city</th>\n",
              "      <th>lat</th>\n",
              "      <th>long</th>\n",
              "      <th>pop</th>\n",
              "      <th>shop</th>\n",
              "      <th>brand</th>\n",
              "      <th>container</th>\n",
              "      <th>capacity</th>\n",
              "      <th>price</th>\n",
              "      <th>quantity</th>\n",
              "    </tr>\n",
              "  </thead>\n",
              "  <tbody>\n",
              "    <tr>\n",
              "      <th>0</th>\n",
              "      <td>1222</td>\n",
              "      <td>2013-02-28</td>\n",
              "      <td>Athens</td>\n",
              "      <td>37.96245</td>\n",
              "      <td>23.68708</td>\n",
              "      <td>671022</td>\n",
              "      <td>shop_3</td>\n",
              "      <td>adult-cola</td>\n",
              "      <td>plastic</td>\n",
              "      <td>1.5lt</td>\n",
              "      <td>2.46</td>\n",
              "      <td>10709</td>\n",
              "    </tr>\n",
              "    <tr>\n",
              "      <th>1</th>\n",
              "      <td>1256</td>\n",
              "      <td>2013-02-28</td>\n",
              "      <td>Athens</td>\n",
              "      <td>37.97945</td>\n",
              "      <td>23.71622</td>\n",
              "      <td>671022</td>\n",
              "      <td>shop_1</td>\n",
              "      <td>adult-cola</td>\n",
              "      <td>plastic</td>\n",
              "      <td>1.5lt</td>\n",
              "      <td>1.91</td>\n",
              "      <td>12703</td>\n",
              "    </tr>\n",
              "    <tr>\n",
              "      <th>2</th>\n",
              "      <td>2325</td>\n",
              "      <td>2014-02-28</td>\n",
              "      <td>Athens</td>\n",
              "      <td>37.97945</td>\n",
              "      <td>23.71622</td>\n",
              "      <td>668203</td>\n",
              "      <td>shop_1</td>\n",
              "      <td>adult-cola</td>\n",
              "      <td>plastic</td>\n",
              "      <td>1.5lt</td>\n",
              "      <td>3.99</td>\n",
              "      <td>3642</td>\n",
              "    </tr>\n",
              "    <tr>\n",
              "      <th>3</th>\n",
              "      <td>2333</td>\n",
              "      <td>2014-02-28</td>\n",
              "      <td>Athens</td>\n",
              "      <td>37.96245</td>\n",
              "      <td>23.68708</td>\n",
              "      <td>668203</td>\n",
              "      <td>shop_3</td>\n",
              "      <td>adult-cola</td>\n",
              "      <td>plastic</td>\n",
              "      <td>1.5lt</td>\n",
              "      <td>2.82</td>\n",
              "      <td>9282</td>\n",
              "    </tr>\n",
              "    <tr>\n",
              "      <th>4</th>\n",
              "      <td>3334</td>\n",
              "      <td>2015-02-28</td>\n",
              "      <td>Athens</td>\n",
              "      <td>37.97945</td>\n",
              "      <td>23.71622</td>\n",
              "      <td>667237</td>\n",
              "      <td>shop_1</td>\n",
              "      <td>adult-cola</td>\n",
              "      <td>plastic</td>\n",
              "      <td>1.5lt</td>\n",
              "      <td>1.29</td>\n",
              "      <td>15782</td>\n",
              "    </tr>\n",
              "  </tbody>\n",
              "</table>\n",
              "</div>"
            ],
            "text/plain": [
              "     id       date    city       lat  ...  container  capacity price quantity\n",
              "0  1222 2013-02-28  Athens  37.96245  ...    plastic     1.5lt  2.46    10709\n",
              "1  1256 2013-02-28  Athens  37.97945  ...    plastic     1.5lt  1.91    12703\n",
              "2  2325 2014-02-28  Athens  37.97945  ...    plastic     1.5lt  3.99     3642\n",
              "3  2333 2014-02-28  Athens  37.96245  ...    plastic     1.5lt  2.82     9282\n",
              "4  3334 2015-02-28  Athens  37.97945  ...    plastic     1.5lt  1.29    15782\n",
              "\n",
              "[5 rows x 12 columns]"
            ]
          },
          "metadata": {},
          "execution_count": 59
        }
      ]
    }
  ]
}