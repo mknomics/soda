{
  "nbformat": 4,
  "nbformat_minor": 0,
  "metadata": {
    "colab": {
      "name": "Elasticity_Intro.ipynb",
      "provenance": [],
      "toc_visible": true,
      "authorship_tag": "ABX9TyMxS9inQzcuTcxuxXGSfnNc",
      "include_colab_link": true
    },
    "kernelspec": {
      "name": "python3",
      "display_name": "Python 3"
    },
    "language_info": {
      "name": "python"
    }
  },
  "cells": [
    {
      "cell_type": "markdown",
      "metadata": {
        "id": "view-in-github",
        "colab_type": "text"
      },
      "source": [
        "<a href=\"https://colab.research.google.com/github/mknomics/soda/blob/main/Elasticity_Intro.ipynb\" target=\"_parent\"><img src=\"https://colab.research.google.com/assets/colab-badge.svg\" alt=\"Open In Colab\"/></a>"
      ]
    },
    {
      "cell_type": "markdown",
      "source": [
        "# SODA DATA\n",
        "This dataset contains product level montly data for multiple stores and products within Greece.  \n",
        "\n",
        "\n",
        "**IMPORTANT DISCLAIMER**  I use this dataset to do a naive estimation of various demand equations BUT doing so is hazardously wrong in practice.  Why? The Data points in this set are the result of an interaction of BOTH supply AND demand.  Our interpretation of Demand is \"willingness-to-pay\".  A true demand schedule is more properly represented in the [Google Sheet](https://docs.google.com/spreadsheets/d/1w5R60JGle5JAWz_wFuQ7dutR948jm60gSvcUTqK2UUI/edit?usp=sharing) that we completed in class.  \n",
        "\n",
        "A more robust estimation would use causal analysis and other experimental methods not covered here. "
      ],
      "metadata": {
        "id": "2wxtzoe40zRN"
      }
    },
    {
      "cell_type": "markdown",
      "source": [
        "## Import Packages\n"
      ],
      "metadata": {
        "id": "Arf4X_ZP05Vb"
      }
    },
    {
      "cell_type": "code",
      "metadata": {
        "id": "Pi5w_-6i91p1"
      },
      "source": [
        "import pandas as pd  #pandas is good for data manipulation.  I rename it here as \"pd\" to make it easier to call in the script below.  I could rename it anything I want but \"pd\" is standard\n",
        "import matplotlib.pyplot as plt #matplotlib is a good package for graphing.  Again, I rename it plt to make coding more simple\n",
        "import numpy as np #numpy is a good package for doing calculations\n",
        "from sklearn.linear_model import LinearRegression  #sklearn is a package that is good at estimation.  Tons of models are available and here I import LinearRegression because that's all I need\n",
        "from IPython.core.display import HTML\n",
        "\n"
      ],
      "execution_count": 157,
      "outputs": []
    },
    {
      "cell_type": "markdown",
      "source": [
        "## Get Some Data"
      ],
      "metadata": {
        "id": "Q58sVTsO1XB5"
      }
    },
    {
      "cell_type": "code",
      "source": [
        "\n",
        "#Import a csv file from a target url:  What is a csv file?  Go to the url below to see the raw data.  columns are separated by a \",\" and the last column lacks a \",\"\n",
        "data_url='https://raw.githubusercontent.com/mknomics/soda/main/soda.csv' # I define a string variable using apostrophe ' but I could ahve also used quotes \" \".  I just cannot mix apostophe and quotes in the same line\n",
        "df = pd.read_csv(data_url) # This line creates a pandas DataFrame that I defined as \"df\".  I could have called it anything I want\n",
        "\n",
        "# Set my date objects.  This must be done so that 'date' is recognized as a date and not just a random string variable\n",
        "df['date']=pd.to_datetime(df['date']) #make date a datetime object\n",
        "df['year']=pd.DatetimeIndex(df['date']).year # I define a variable 'year' using the DatetimeIndex method\n",
        "df['month']=pd.DatetimeIndex(df['date']).month # similarly I repeat and define 'month'\n",
        "\n"
      ],
      "metadata": {
        "id": "q03wib570yDi"
      },
      "execution_count": 158,
      "outputs": []
    },
    {
      "cell_type": "markdown",
      "metadata": {
        "id": "DEsd0e5BYP2i"
      },
      "source": [
        "### Look at Data (below) df.head()\n",
        "### What are the levels of variation?\n",
        "1) time (month, year)\n",
        "\n",
        "2) geography (city)\n",
        "\n",
        "3) Store (shop, latitude, longitude)\n",
        "\n",
        "4) Brand\n",
        "\n",
        "5) Container (equivalent to capacity)\n"
      ]
    },
    {
      "cell_type": "code",
      "metadata": {
        "colab": {
          "base_uri": "https://localhost:8080/",
          "height": 206
        },
        "id": "8Bd2IGbwX36O",
        "outputId": "85d35359-5270-4507-f826-97f4a7fca3b7"
      },
      "source": [
        "df.head()"
      ],
      "execution_count": 159,
      "outputs": [
        {
          "output_type": "execute_result",
          "data": {
            "text/html": [
              "\n",
              "  <div id=\"df-2335500b-1d7c-40b1-ad42-26bc32ab0165\">\n",
              "    <div class=\"colab-df-container\">\n",
              "      <div>\n",
              "<style scoped>\n",
              "    .dataframe tbody tr th:only-of-type {\n",
              "        vertical-align: middle;\n",
              "    }\n",
              "\n",
              "    .dataframe tbody tr th {\n",
              "        vertical-align: top;\n",
              "    }\n",
              "\n",
              "    .dataframe thead th {\n",
              "        text-align: right;\n",
              "    }\n",
              "</style>\n",
              "<table border=\"1\" class=\"dataframe\">\n",
              "  <thead>\n",
              "    <tr style=\"text-align: right;\">\n",
              "      <th></th>\n",
              "      <th>id</th>\n",
              "      <th>date</th>\n",
              "      <th>city</th>\n",
              "      <th>lat</th>\n",
              "      <th>long</th>\n",
              "      <th>pop</th>\n",
              "      <th>shop</th>\n",
              "      <th>brand</th>\n",
              "      <th>container</th>\n",
              "      <th>capacity</th>\n",
              "      <th>price</th>\n",
              "      <th>quantity</th>\n",
              "      <th>year</th>\n",
              "      <th>month</th>\n",
              "    </tr>\n",
              "  </thead>\n",
              "  <tbody>\n",
              "    <tr>\n",
              "      <th>0</th>\n",
              "      <td>1222</td>\n",
              "      <td>2013-02-28</td>\n",
              "      <td>Athens</td>\n",
              "      <td>37.96245</td>\n",
              "      <td>23.68708</td>\n",
              "      <td>671022</td>\n",
              "      <td>shop_3</td>\n",
              "      <td>adult-cola</td>\n",
              "      <td>plastic</td>\n",
              "      <td>1.5lt</td>\n",
              "      <td>2.46</td>\n",
              "      <td>10709</td>\n",
              "      <td>2013</td>\n",
              "      <td>2</td>\n",
              "    </tr>\n",
              "    <tr>\n",
              "      <th>1</th>\n",
              "      <td>1256</td>\n",
              "      <td>2013-02-28</td>\n",
              "      <td>Athens</td>\n",
              "      <td>37.97945</td>\n",
              "      <td>23.71622</td>\n",
              "      <td>671022</td>\n",
              "      <td>shop_1</td>\n",
              "      <td>adult-cola</td>\n",
              "      <td>plastic</td>\n",
              "      <td>1.5lt</td>\n",
              "      <td>1.91</td>\n",
              "      <td>12703</td>\n",
              "      <td>2013</td>\n",
              "      <td>2</td>\n",
              "    </tr>\n",
              "    <tr>\n",
              "      <th>2</th>\n",
              "      <td>2325</td>\n",
              "      <td>2014-02-28</td>\n",
              "      <td>Athens</td>\n",
              "      <td>37.97945</td>\n",
              "      <td>23.71622</td>\n",
              "      <td>668203</td>\n",
              "      <td>shop_1</td>\n",
              "      <td>adult-cola</td>\n",
              "      <td>plastic</td>\n",
              "      <td>1.5lt</td>\n",
              "      <td>3.99</td>\n",
              "      <td>3642</td>\n",
              "      <td>2014</td>\n",
              "      <td>2</td>\n",
              "    </tr>\n",
              "    <tr>\n",
              "      <th>3</th>\n",
              "      <td>2333</td>\n",
              "      <td>2014-02-28</td>\n",
              "      <td>Athens</td>\n",
              "      <td>37.96245</td>\n",
              "      <td>23.68708</td>\n",
              "      <td>668203</td>\n",
              "      <td>shop_3</td>\n",
              "      <td>adult-cola</td>\n",
              "      <td>plastic</td>\n",
              "      <td>1.5lt</td>\n",
              "      <td>2.82</td>\n",
              "      <td>9282</td>\n",
              "      <td>2014</td>\n",
              "      <td>2</td>\n",
              "    </tr>\n",
              "    <tr>\n",
              "      <th>4</th>\n",
              "      <td>3334</td>\n",
              "      <td>2015-02-28</td>\n",
              "      <td>Athens</td>\n",
              "      <td>37.97945</td>\n",
              "      <td>23.71622</td>\n",
              "      <td>667237</td>\n",
              "      <td>shop_1</td>\n",
              "      <td>adult-cola</td>\n",
              "      <td>plastic</td>\n",
              "      <td>1.5lt</td>\n",
              "      <td>1.29</td>\n",
              "      <td>15782</td>\n",
              "      <td>2015</td>\n",
              "      <td>2</td>\n",
              "    </tr>\n",
              "  </tbody>\n",
              "</table>\n",
              "</div>\n",
              "      <button class=\"colab-df-convert\" onclick=\"convertToInteractive('df-2335500b-1d7c-40b1-ad42-26bc32ab0165')\"\n",
              "              title=\"Convert this dataframe to an interactive table.\"\n",
              "              style=\"display:none;\">\n",
              "        \n",
              "  <svg xmlns=\"http://www.w3.org/2000/svg\" height=\"24px\"viewBox=\"0 0 24 24\"\n",
              "       width=\"24px\">\n",
              "    <path d=\"M0 0h24v24H0V0z\" fill=\"none\"/>\n",
              "    <path d=\"M18.56 5.44l.94 2.06.94-2.06 2.06-.94-2.06-.94-.94-2.06-.94 2.06-2.06.94zm-11 1L8.5 8.5l.94-2.06 2.06-.94-2.06-.94L8.5 2.5l-.94 2.06-2.06.94zm10 10l.94 2.06.94-2.06 2.06-.94-2.06-.94-.94-2.06-.94 2.06-2.06.94z\"/><path d=\"M17.41 7.96l-1.37-1.37c-.4-.4-.92-.59-1.43-.59-.52 0-1.04.2-1.43.59L10.3 9.45l-7.72 7.72c-.78.78-.78 2.05 0 2.83L4 21.41c.39.39.9.59 1.41.59.51 0 1.02-.2 1.41-.59l7.78-7.78 2.81-2.81c.8-.78.8-2.07 0-2.86zM5.41 20L4 18.59l7.72-7.72 1.47 1.35L5.41 20z\"/>\n",
              "  </svg>\n",
              "      </button>\n",
              "      \n",
              "  <style>\n",
              "    .colab-df-container {\n",
              "      display:flex;\n",
              "      flex-wrap:wrap;\n",
              "      gap: 12px;\n",
              "    }\n",
              "\n",
              "    .colab-df-convert {\n",
              "      background-color: #E8F0FE;\n",
              "      border: none;\n",
              "      border-radius: 50%;\n",
              "      cursor: pointer;\n",
              "      display: none;\n",
              "      fill: #1967D2;\n",
              "      height: 32px;\n",
              "      padding: 0 0 0 0;\n",
              "      width: 32px;\n",
              "    }\n",
              "\n",
              "    .colab-df-convert:hover {\n",
              "      background-color: #E2EBFA;\n",
              "      box-shadow: 0px 1px 2px rgba(60, 64, 67, 0.3), 0px 1px 3px 1px rgba(60, 64, 67, 0.15);\n",
              "      fill: #174EA6;\n",
              "    }\n",
              "\n",
              "    [theme=dark] .colab-df-convert {\n",
              "      background-color: #3B4455;\n",
              "      fill: #D2E3FC;\n",
              "    }\n",
              "\n",
              "    [theme=dark] .colab-df-convert:hover {\n",
              "      background-color: #434B5C;\n",
              "      box-shadow: 0px 1px 3px 1px rgba(0, 0, 0, 0.15);\n",
              "      filter: drop-shadow(0px 1px 2px rgba(0, 0, 0, 0.3));\n",
              "      fill: #FFFFFF;\n",
              "    }\n",
              "  </style>\n",
              "\n",
              "      <script>\n",
              "        const buttonEl =\n",
              "          document.querySelector('#df-2335500b-1d7c-40b1-ad42-26bc32ab0165 button.colab-df-convert');\n",
              "        buttonEl.style.display =\n",
              "          google.colab.kernel.accessAllowed ? 'block' : 'none';\n",
              "\n",
              "        async function convertToInteractive(key) {\n",
              "          const element = document.querySelector('#df-2335500b-1d7c-40b1-ad42-26bc32ab0165');\n",
              "          const dataTable =\n",
              "            await google.colab.kernel.invokeFunction('convertToInteractive',\n",
              "                                                     [key], {});\n",
              "          if (!dataTable) return;\n",
              "\n",
              "          const docLinkHtml = 'Like what you see? Visit the ' +\n",
              "            '<a target=\"_blank\" href=https://colab.research.google.com/notebooks/data_table.ipynb>data table notebook</a>'\n",
              "            + ' to learn more about interactive tables.';\n",
              "          element.innerHTML = '';\n",
              "          dataTable['output_type'] = 'display_data';\n",
              "          await google.colab.output.renderOutput(dataTable, element);\n",
              "          const docLink = document.createElement('div');\n",
              "          docLink.innerHTML = docLinkHtml;\n",
              "          element.appendChild(docLink);\n",
              "        }\n",
              "      </script>\n",
              "    </div>\n",
              "  </div>\n",
              "  "
            ],
            "text/plain": [
              "     id       date    city       lat  ...  price  quantity  year month\n",
              "0  1222 2013-02-28  Athens  37.96245  ...   2.46     10709  2013     2\n",
              "1  1256 2013-02-28  Athens  37.97945  ...   1.91     12703  2013     2\n",
              "2  2325 2014-02-28  Athens  37.97945  ...   3.99      3642  2014     2\n",
              "3  2333 2014-02-28  Athens  37.96245  ...   2.82      9282  2014     2\n",
              "4  3334 2015-02-28  Athens  37.97945  ...   1.29     15782  2015     2\n",
              "\n",
              "[5 rows x 14 columns]"
            ]
          },
          "metadata": {},
          "execution_count": 159
        }
      ]
    },
    {
      "cell_type": "code",
      "source": [
        "pd.crosstab(df['city'],df['shop'])"
      ],
      "metadata": {
        "colab": {
          "base_uri": "https://localhost:8080/",
          "height": 237
        },
        "id": "dlk1l_tJPUA-",
        "outputId": "6d36967a-5f1b-4866-ba71-e3ee7626cd72"
      },
      "execution_count": 160,
      "outputs": [
        {
          "output_type": "execute_result",
          "data": {
            "text/html": [
              "\n",
              "  <div id=\"df-7e7e1bf4-75fe-4fd2-af37-332cf18ae1cd\">\n",
              "    <div class=\"colab-df-container\">\n",
              "      <div>\n",
              "<style scoped>\n",
              "    .dataframe tbody tr th:only-of-type {\n",
              "        vertical-align: middle;\n",
              "    }\n",
              "\n",
              "    .dataframe tbody tr th {\n",
              "        vertical-align: top;\n",
              "    }\n",
              "\n",
              "    .dataframe thead th {\n",
              "        text-align: right;\n",
              "    }\n",
              "</style>\n",
              "<table border=\"1\" class=\"dataframe\">\n",
              "  <thead>\n",
              "    <tr style=\"text-align: right;\">\n",
              "      <th>shop</th>\n",
              "      <th>shop_1</th>\n",
              "      <th>shop_2</th>\n",
              "      <th>shop_3</th>\n",
              "      <th>shop_4</th>\n",
              "      <th>shop_5</th>\n",
              "      <th>shop_6</th>\n",
              "    </tr>\n",
              "    <tr>\n",
              "      <th>city</th>\n",
              "      <th></th>\n",
              "      <th></th>\n",
              "      <th></th>\n",
              "      <th></th>\n",
              "      <th></th>\n",
              "      <th></th>\n",
              "    </tr>\n",
              "  </thead>\n",
              "  <tbody>\n",
              "    <tr>\n",
              "      <th>Athens</th>\n",
              "      <td>1260</td>\n",
              "      <td>0</td>\n",
              "      <td>1260</td>\n",
              "      <td>0</td>\n",
              "      <td>0</td>\n",
              "      <td>0</td>\n",
              "    </tr>\n",
              "    <tr>\n",
              "      <th>Irakleion</th>\n",
              "      <td>0</td>\n",
              "      <td>1260</td>\n",
              "      <td>0</td>\n",
              "      <td>0</td>\n",
              "      <td>0</td>\n",
              "      <td>0</td>\n",
              "    </tr>\n",
              "    <tr>\n",
              "      <th>Larisa</th>\n",
              "      <td>0</td>\n",
              "      <td>0</td>\n",
              "      <td>0</td>\n",
              "      <td>0</td>\n",
              "      <td>1260</td>\n",
              "      <td>0</td>\n",
              "    </tr>\n",
              "    <tr>\n",
              "      <th>Patra</th>\n",
              "      <td>0</td>\n",
              "      <td>0</td>\n",
              "      <td>0</td>\n",
              "      <td>0</td>\n",
              "      <td>0</td>\n",
              "      <td>1260</td>\n",
              "    </tr>\n",
              "    <tr>\n",
              "      <th>Thessaloniki</th>\n",
              "      <td>0</td>\n",
              "      <td>0</td>\n",
              "      <td>0</td>\n",
              "      <td>1260</td>\n",
              "      <td>0</td>\n",
              "      <td>0</td>\n",
              "    </tr>\n",
              "  </tbody>\n",
              "</table>\n",
              "</div>\n",
              "      <button class=\"colab-df-convert\" onclick=\"convertToInteractive('df-7e7e1bf4-75fe-4fd2-af37-332cf18ae1cd')\"\n",
              "              title=\"Convert this dataframe to an interactive table.\"\n",
              "              style=\"display:none;\">\n",
              "        \n",
              "  <svg xmlns=\"http://www.w3.org/2000/svg\" height=\"24px\"viewBox=\"0 0 24 24\"\n",
              "       width=\"24px\">\n",
              "    <path d=\"M0 0h24v24H0V0z\" fill=\"none\"/>\n",
              "    <path d=\"M18.56 5.44l.94 2.06.94-2.06 2.06-.94-2.06-.94-.94-2.06-.94 2.06-2.06.94zm-11 1L8.5 8.5l.94-2.06 2.06-.94-2.06-.94L8.5 2.5l-.94 2.06-2.06.94zm10 10l.94 2.06.94-2.06 2.06-.94-2.06-.94-.94-2.06-.94 2.06-2.06.94z\"/><path d=\"M17.41 7.96l-1.37-1.37c-.4-.4-.92-.59-1.43-.59-.52 0-1.04.2-1.43.59L10.3 9.45l-7.72 7.72c-.78.78-.78 2.05 0 2.83L4 21.41c.39.39.9.59 1.41.59.51 0 1.02-.2 1.41-.59l7.78-7.78 2.81-2.81c.8-.78.8-2.07 0-2.86zM5.41 20L4 18.59l7.72-7.72 1.47 1.35L5.41 20z\"/>\n",
              "  </svg>\n",
              "      </button>\n",
              "      \n",
              "  <style>\n",
              "    .colab-df-container {\n",
              "      display:flex;\n",
              "      flex-wrap:wrap;\n",
              "      gap: 12px;\n",
              "    }\n",
              "\n",
              "    .colab-df-convert {\n",
              "      background-color: #E8F0FE;\n",
              "      border: none;\n",
              "      border-radius: 50%;\n",
              "      cursor: pointer;\n",
              "      display: none;\n",
              "      fill: #1967D2;\n",
              "      height: 32px;\n",
              "      padding: 0 0 0 0;\n",
              "      width: 32px;\n",
              "    }\n",
              "\n",
              "    .colab-df-convert:hover {\n",
              "      background-color: #E2EBFA;\n",
              "      box-shadow: 0px 1px 2px rgba(60, 64, 67, 0.3), 0px 1px 3px 1px rgba(60, 64, 67, 0.15);\n",
              "      fill: #174EA6;\n",
              "    }\n",
              "\n",
              "    [theme=dark] .colab-df-convert {\n",
              "      background-color: #3B4455;\n",
              "      fill: #D2E3FC;\n",
              "    }\n",
              "\n",
              "    [theme=dark] .colab-df-convert:hover {\n",
              "      background-color: #434B5C;\n",
              "      box-shadow: 0px 1px 3px 1px rgba(0, 0, 0, 0.15);\n",
              "      filter: drop-shadow(0px 1px 2px rgba(0, 0, 0, 0.3));\n",
              "      fill: #FFFFFF;\n",
              "    }\n",
              "  </style>\n",
              "\n",
              "      <script>\n",
              "        const buttonEl =\n",
              "          document.querySelector('#df-7e7e1bf4-75fe-4fd2-af37-332cf18ae1cd button.colab-df-convert');\n",
              "        buttonEl.style.display =\n",
              "          google.colab.kernel.accessAllowed ? 'block' : 'none';\n",
              "\n",
              "        async function convertToInteractive(key) {\n",
              "          const element = document.querySelector('#df-7e7e1bf4-75fe-4fd2-af37-332cf18ae1cd');\n",
              "          const dataTable =\n",
              "            await google.colab.kernel.invokeFunction('convertToInteractive',\n",
              "                                                     [key], {});\n",
              "          if (!dataTable) return;\n",
              "\n",
              "          const docLinkHtml = 'Like what you see? Visit the ' +\n",
              "            '<a target=\"_blank\" href=https://colab.research.google.com/notebooks/data_table.ipynb>data table notebook</a>'\n",
              "            + ' to learn more about interactive tables.';\n",
              "          element.innerHTML = '';\n",
              "          dataTable['output_type'] = 'display_data';\n",
              "          await google.colab.output.renderOutput(dataTable, element);\n",
              "          const docLink = document.createElement('div');\n",
              "          docLink.innerHTML = docLinkHtml;\n",
              "          element.appendChild(docLink);\n",
              "        }\n",
              "      </script>\n",
              "    </div>\n",
              "  </div>\n",
              "  "
            ],
            "text/plain": [
              "shop          shop_1  shop_2  shop_3  shop_4  shop_5  shop_6\n",
              "city                                                        \n",
              "Athens          1260       0    1260       0       0       0\n",
              "Irakleion          0    1260       0       0       0       0\n",
              "Larisa             0       0       0       0    1260       0\n",
              "Patra              0       0       0       0       0    1260\n",
              "Thessaloniki       0       0       0    1260       0       0"
            ]
          },
          "metadata": {},
          "execution_count": 160
        }
      ]
    },
    {
      "cell_type": "markdown",
      "source": [
        "### Interpret dataset\n",
        "Each line represents the montly sales volume and average price for a specific brand/bottle type of cola that was sold in a specific store within Greece \n",
        "\n",
        "\n"
      ],
      "metadata": {
        "id": "oJPKK8eH1eKY"
      }
    },
    {
      "cell_type": "markdown",
      "metadata": {
        "id": "8P-WwdbCY5NK"
      },
      "source": [
        "### Descriptive Statistics\n"
      ]
    },
    {
      "cell_type": "code",
      "source": [
        "\n",
        "print(\"There are \" + str(df[['id']].nunique()[0]) + \" unique shops in this dataset\")\n",
        "df.describe()"
      ],
      "metadata": {
        "colab": {
          "base_uri": "https://localhost:8080/",
          "height": 318
        },
        "id": "gxm0zwhh_dsV",
        "outputId": "7d7a7654-e6e6-4ec7-e334-8b95cb4d106c"
      },
      "execution_count": 161,
      "outputs": [
        {
          "output_type": "stream",
          "name": "stdout",
          "text": [
            "There are 7560 unique shops in this dataset\n"
          ]
        },
        {
          "output_type": "execute_result",
          "data": {
            "text/html": [
              "\n",
              "  <div id=\"df-d27ca1fc-e652-4744-93e0-fac3048a075f\">\n",
              "    <div class=\"colab-df-container\">\n",
              "      <div>\n",
              "<style scoped>\n",
              "    .dataframe tbody tr th:only-of-type {\n",
              "        vertical-align: middle;\n",
              "    }\n",
              "\n",
              "    .dataframe tbody tr th {\n",
              "        vertical-align: top;\n",
              "    }\n",
              "\n",
              "    .dataframe thead th {\n",
              "        text-align: right;\n",
              "    }\n",
              "</style>\n",
              "<table border=\"1\" class=\"dataframe\">\n",
              "  <thead>\n",
              "    <tr style=\"text-align: right;\">\n",
              "      <th></th>\n",
              "      <th>id</th>\n",
              "      <th>lat</th>\n",
              "      <th>long</th>\n",
              "      <th>pop</th>\n",
              "      <th>price</th>\n",
              "      <th>quantity</th>\n",
              "      <th>year</th>\n",
              "      <th>month</th>\n",
              "    </tr>\n",
              "  </thead>\n",
              "  <tbody>\n",
              "    <tr>\n",
              "      <th>count</th>\n",
              "      <td>7560.00000</td>\n",
              "      <td>7501.000000</td>\n",
              "      <td>7501.000000</td>\n",
              "      <td>7560.000000</td>\n",
              "      <td>7560.000000</td>\n",
              "      <td>7560.000000</td>\n",
              "      <td>7560.000000</td>\n",
              "      <td>7560.000000</td>\n",
              "    </tr>\n",
              "    <tr>\n",
              "      <th>mean</th>\n",
              "      <td>3779.50000</td>\n",
              "      <td>38.300808</td>\n",
              "      <td>23.270191</td>\n",
              "      <td>355174.095238</td>\n",
              "      <td>1.196049</td>\n",
              "      <td>29421.715212</td>\n",
              "      <td>2015.000000</td>\n",
              "      <td>6.500000</td>\n",
              "    </tr>\n",
              "    <tr>\n",
              "      <th>std</th>\n",
              "      <td>2182.52835</td>\n",
              "      <td>1.650503</td>\n",
              "      <td>1.087175</td>\n",
              "      <td>232441.012350</td>\n",
              "      <td>0.816838</td>\n",
              "      <td>17665.033867</td>\n",
              "      <td>2.000132</td>\n",
              "      <td>3.452281</td>\n",
              "    </tr>\n",
              "    <tr>\n",
              "      <th>min</th>\n",
              "      <td>0.00000</td>\n",
              "      <td>35.327870</td>\n",
              "      <td>21.734440</td>\n",
              "      <td>134219.000000</td>\n",
              "      <td>0.110000</td>\n",
              "      <td>2953.000000</td>\n",
              "      <td>2012.000000</td>\n",
              "      <td>1.000000</td>\n",
              "    </tr>\n",
              "    <tr>\n",
              "      <th>25%</th>\n",
              "      <td>1889.75000</td>\n",
              "      <td>37.962450</td>\n",
              "      <td>22.417610</td>\n",
              "      <td>141732.000000</td>\n",
              "      <td>0.620000</td>\n",
              "      <td>16572.750000</td>\n",
              "      <td>2013.000000</td>\n",
              "      <td>3.750000</td>\n",
              "    </tr>\n",
              "    <tr>\n",
              "      <th>50%</th>\n",
              "      <td>3779.50000</td>\n",
              "      <td>38.244440</td>\n",
              "      <td>22.930860</td>\n",
              "      <td>257501.500000</td>\n",
              "      <td>0.930000</td>\n",
              "      <td>25312.000000</td>\n",
              "      <td>2015.000000</td>\n",
              "      <td>6.500000</td>\n",
              "    </tr>\n",
              "    <tr>\n",
              "      <th>75%</th>\n",
              "      <td>5669.25000</td>\n",
              "      <td>39.636890</td>\n",
              "      <td>23.716220</td>\n",
              "      <td>665102.000000</td>\n",
              "      <td>1.510000</td>\n",
              "      <td>37751.500000</td>\n",
              "      <td>2017.000000</td>\n",
              "      <td>9.250000</td>\n",
              "    </tr>\n",
              "    <tr>\n",
              "      <th>max</th>\n",
              "      <td>7559.00000</td>\n",
              "      <td>40.643610</td>\n",
              "      <td>25.143410</td>\n",
              "      <td>672130.000000</td>\n",
              "      <td>4.790000</td>\n",
              "      <td>145287.000000</td>\n",
              "      <td>2018.000000</td>\n",
              "      <td>12.000000</td>\n",
              "    </tr>\n",
              "  </tbody>\n",
              "</table>\n",
              "</div>\n",
              "      <button class=\"colab-df-convert\" onclick=\"convertToInteractive('df-d27ca1fc-e652-4744-93e0-fac3048a075f')\"\n",
              "              title=\"Convert this dataframe to an interactive table.\"\n",
              "              style=\"display:none;\">\n",
              "        \n",
              "  <svg xmlns=\"http://www.w3.org/2000/svg\" height=\"24px\"viewBox=\"0 0 24 24\"\n",
              "       width=\"24px\">\n",
              "    <path d=\"M0 0h24v24H0V0z\" fill=\"none\"/>\n",
              "    <path d=\"M18.56 5.44l.94 2.06.94-2.06 2.06-.94-2.06-.94-.94-2.06-.94 2.06-2.06.94zm-11 1L8.5 8.5l.94-2.06 2.06-.94-2.06-.94L8.5 2.5l-.94 2.06-2.06.94zm10 10l.94 2.06.94-2.06 2.06-.94-2.06-.94-.94-2.06-.94 2.06-2.06.94z\"/><path d=\"M17.41 7.96l-1.37-1.37c-.4-.4-.92-.59-1.43-.59-.52 0-1.04.2-1.43.59L10.3 9.45l-7.72 7.72c-.78.78-.78 2.05 0 2.83L4 21.41c.39.39.9.59 1.41.59.51 0 1.02-.2 1.41-.59l7.78-7.78 2.81-2.81c.8-.78.8-2.07 0-2.86zM5.41 20L4 18.59l7.72-7.72 1.47 1.35L5.41 20z\"/>\n",
              "  </svg>\n",
              "      </button>\n",
              "      \n",
              "  <style>\n",
              "    .colab-df-container {\n",
              "      display:flex;\n",
              "      flex-wrap:wrap;\n",
              "      gap: 12px;\n",
              "    }\n",
              "\n",
              "    .colab-df-convert {\n",
              "      background-color: #E8F0FE;\n",
              "      border: none;\n",
              "      border-radius: 50%;\n",
              "      cursor: pointer;\n",
              "      display: none;\n",
              "      fill: #1967D2;\n",
              "      height: 32px;\n",
              "      padding: 0 0 0 0;\n",
              "      width: 32px;\n",
              "    }\n",
              "\n",
              "    .colab-df-convert:hover {\n",
              "      background-color: #E2EBFA;\n",
              "      box-shadow: 0px 1px 2px rgba(60, 64, 67, 0.3), 0px 1px 3px 1px rgba(60, 64, 67, 0.15);\n",
              "      fill: #174EA6;\n",
              "    }\n",
              "\n",
              "    [theme=dark] .colab-df-convert {\n",
              "      background-color: #3B4455;\n",
              "      fill: #D2E3FC;\n",
              "    }\n",
              "\n",
              "    [theme=dark] .colab-df-convert:hover {\n",
              "      background-color: #434B5C;\n",
              "      box-shadow: 0px 1px 3px 1px rgba(0, 0, 0, 0.15);\n",
              "      filter: drop-shadow(0px 1px 2px rgba(0, 0, 0, 0.3));\n",
              "      fill: #FFFFFF;\n",
              "    }\n",
              "  </style>\n",
              "\n",
              "      <script>\n",
              "        const buttonEl =\n",
              "          document.querySelector('#df-d27ca1fc-e652-4744-93e0-fac3048a075f button.colab-df-convert');\n",
              "        buttonEl.style.display =\n",
              "          google.colab.kernel.accessAllowed ? 'block' : 'none';\n",
              "\n",
              "        async function convertToInteractive(key) {\n",
              "          const element = document.querySelector('#df-d27ca1fc-e652-4744-93e0-fac3048a075f');\n",
              "          const dataTable =\n",
              "            await google.colab.kernel.invokeFunction('convertToInteractive',\n",
              "                                                     [key], {});\n",
              "          if (!dataTable) return;\n",
              "\n",
              "          const docLinkHtml = 'Like what you see? Visit the ' +\n",
              "            '<a target=\"_blank\" href=https://colab.research.google.com/notebooks/data_table.ipynb>data table notebook</a>'\n",
              "            + ' to learn more about interactive tables.';\n",
              "          element.innerHTML = '';\n",
              "          dataTable['output_type'] = 'display_data';\n",
              "          await google.colab.output.renderOutput(dataTable, element);\n",
              "          const docLink = document.createElement('div');\n",
              "          docLink.innerHTML = docLinkHtml;\n",
              "          element.appendChild(docLink);\n",
              "        }\n",
              "      </script>\n",
              "    </div>\n",
              "  </div>\n",
              "  "
            ],
            "text/plain": [
              "               id          lat  ...         year        month\n",
              "count  7560.00000  7501.000000  ...  7560.000000  7560.000000\n",
              "mean   3779.50000    38.300808  ...  2015.000000     6.500000\n",
              "std    2182.52835     1.650503  ...     2.000132     3.452281\n",
              "min       0.00000    35.327870  ...  2012.000000     1.000000\n",
              "25%    1889.75000    37.962450  ...  2013.000000     3.750000\n",
              "50%    3779.50000    38.244440  ...  2015.000000     6.500000\n",
              "75%    5669.25000    39.636890  ...  2017.000000     9.250000\n",
              "max    7559.00000    40.643610  ...  2018.000000    12.000000\n",
              "\n",
              "[8 rows x 8 columns]"
            ]
          },
          "metadata": {},
          "execution_count": 161
        }
      ]
    },
    {
      "cell_type": "markdown",
      "source": [
        "##**City-Product-Time Level Analysis**\n",
        "Let's look at data at the city-product-time level.  There will be variation on the following dimensions:\n",
        "\n",
        "*   Between Products\n",
        "*   Over Time\n",
        "*   Between cities\n",
        "\n"
      ],
      "metadata": {
        "id": "UxeyaDcBHGPq"
      }
    },
    {
      "cell_type": "code",
      "metadata": {
        "id": "V8yPBhhv5svC"
      },
      "source": [
        "#Step 1: use groupby method and define a new dataframe for each of the metrics that we are interested in\n",
        "df_mean_Q = df.groupby(['brand','container','city','date'])['quantity'].mean().reset_index()# I reset the index for each new data set.  Don't worry if the indexing is confusing since it isn't the main point here\n",
        "df_mean_P = df.groupby(['brand','container','city','date'])['price'].mean().reset_index()\n",
        "# Step 2: the data frames from Step #1 can be merged by their unique rows.  Rows are unique by city x brand x container x date\n",
        "df_city = pd.merge(df_mean_Q, df_mean_P) # merges df_total_Q dataframe with df_mean_P dataframe based on their unique rows\n",
        "\n",
        "# Now let's rename the price and quantity column so we don't get confused later about what we are looking at\n",
        "df_city.rename(columns={'quantity': 'mean_q', 'price': 'mean_p'},inplace=True) # I \n",
        "\n",
        "# we lost our columns df['year'] and df['month'] so lets add these back\n",
        "df_city['year']=pd.DatetimeIndex(df_city['date']).year # I define a variable 'year' using the DatetimeIndex method\n",
        "df_city['month']=pd.DatetimeIndex(df_city['date']).month # similarly I repeat and define 'month'about what we are looking at\n",
        "df_city.rename(columns={'quantity': 'mean_q', 'price': 'mean_p'},inplace=True) \n",
        "\n",
        "df_city = df_city.pivot(index='date', columns=['city','brand','container'], values=['mean_q','mean_p'])\n"
      ],
      "execution_count": 162,
      "outputs": []
    },
    {
      "cell_type": "markdown",
      "source": [
        "### Hierarchical Columns\n",
        "Now my columns in df_city are labeled in a hierarchy as follows\n",
        "\n",
        "df_city[METRIC][CITY][BRAND][CONTAINER]\n",
        "\n",
        "**METRIC** is in [mean_q, mean_p]\n",
        "\n",
        "**CITY** is in ['Athens', 'Irakleion', 'Larisa', 'Patra', 'Thessaloniki']\n",
        "\n",
        "**BRAND** is in ['adult-cola', 'gazoza', 'kinder-cola', 'lemon-boost',  'orange-power']\n",
        "\n",
        "**CONTAINER** is in ['plastic', 'can', nan, 'glass']"
      ],
      "metadata": {
        "id": "T-7HEE89OAyU"
      }
    },
    {
      "cell_type": "code",
      "source": [
        "# Example: the mean price of adult-cola can in Athens is:\n",
        "df_city['mean_p']['Athens']['adult-cola']['can']"
      ],
      "metadata": {
        "colab": {
          "base_uri": "https://localhost:8080/"
        },
        "id": "ElembUZOKs4m",
        "outputId": "8929cb99-905a-4003-939a-9f8b411d6b1a"
      },
      "execution_count": 163,
      "outputs": [
        {
          "output_type": "execute_result",
          "data": {
            "text/plain": [
              "date\n",
              "2012-01-31    0.550\n",
              "2012-02-29    0.390\n",
              "2012-03-31    0.740\n",
              "2012-04-30    0.815\n",
              "2012-05-31    0.765\n",
              "              ...  \n",
              "2018-08-31    0.630\n",
              "2018-09-30    0.560\n",
              "2018-10-31    0.725\n",
              "2018-11-30    0.590\n",
              "2018-12-31    0.685\n",
              "Name: can, Length: 84, dtype: float64"
            ]
          },
          "metadata": {},
          "execution_count": 163
        }
      ]
    },
    {
      "cell_type": "markdown",
      "source": [
        "## Athens Function \n",
        "Within a city, we can define both price and quantity by specifying the brand and container.\n",
        "\n",
        "---\n",
        "Let's define a simple function to compare products in Athens using a scatter plot.  Quantity and Price are defined by brand and container.  Thus our function will take on 4 variables, \n",
        "\n",
        "2 inputs define which quantity we want\n",
        "\n",
        "1.   Q_brand\n",
        "2.   Q_container\n",
        "\n",
        "2 inputs define which price we want\n",
        "1.   P_brand\n",
        "2.   P_container\n",
        "\n",
        "Our new function Athens takes these inputs and returns the associated scatter plot\n",
        "\n",
        "**EXAMPLE:**  a scatter of the price of adult-cola cans and the quanity of orange-power cans would be:\n",
        "\n",
        "**Athens(Q_brand='orange-power', Q_container='can', P_brand='adult-cola', P_container='can')**\n",
        "\n",
        "Remember:\n",
        "\n",
        "\n",
        "**BRAND** is in ['adult-cola', 'gazoza', 'kinder-cola', 'lemon-boost',  'orange-power']\n",
        "\n",
        "**CONTAINER** is in ['plastic', 'can', nan, 'glass']"
      ],
      "metadata": {
        "id": "-sevFZgIWIfe"
      }
    },
    {
      "cell_type": "code",
      "source": [
        "\n",
        "def Athens(Q_brand=True, Q_container=True, P_brand=True, P_container=True):\n",
        "\n",
        " # define independent variable X\n",
        "  X = df_city['mean_q']['Athens'][Q_brand][Q_container].values.reshape(-1,1) #convert to numpy array using \"values\"\n",
        "  # define dependent variable Y\n",
        "  Y = df_city['mean_p']['Athens'][P_brand][P_container].values.reshape(-1,1)\n",
        "\n",
        "  linear_regression = LinearRegression() # Create a linear_regression object\n",
        "  linear_regression.fit(X , Y)  # Fit the model\n",
        "  Y_pred = linear_regression.predict(X)  # Fits the Data Points \"X\" with the parameters from the Fit step to form a prediction\n",
        "\n",
        "  plt.scatter(X, Y)\n",
        "  plt.plot(X, Y_pred, color='red')\n",
        "\n",
        "\n",
        "  #plt.scatter( df_city['mean_p']['Athens'][P_brand][P_container], df_city['mean_q']['Athens'][Q_brand][Q_container])\n",
        "  #add title and axis labels\n",
        "  plt.title('Price and Quantity')\n",
        "  plt.xlabel('Quantity '+ \" \" + Q_brand+ \" \" + Q_container)\n",
        "  plt.ylabel('Price' +\" \" + P_brand + \" \" + P_container)\n",
        "\n",
        "  return plt.show()\n",
        "\n",
        "\n"
      ],
      "metadata": {
        "id": "oV5DW27yT9kW"
      },
      "execution_count": 164,
      "outputs": []
    },
    {
      "cell_type": "markdown",
      "source": [
        "<iframe width=\"560\" height=\"315\" src=\"https://www.youtube.com/embed/AzjHTYT8nyU\" title=\"YouTube video player\" frameborder=\"0\" allow=\"accelerometer; autoplay; clipboard-write; encrypted-media; gyroscope; picture-in-picture\" allowfullscreen></iframe>"
      ],
      "metadata": {
        "id": "ae_6r7DQBQir"
      }
    },
    {
      "cell_type": "markdown",
      "source": [
        "### OPTIONAL VIDEO"
      ],
      "metadata": {
        "id": "5zEmF5OTKV1j"
      }
    },
    {
      "cell_type": "code",
      "source": [
        "HTML('<iframe width=\"560\" height=\"315\" src=\"https://www.youtube.com/embed/AzjHTYT8nyU\" title=\"YouTube video player\" frameborder=\"0\" allow=\"accelerometer; autoplay; clipboard-write; encrypted-media; gyroscope; picture-in-picture\" allowfullscreen></iframe>')"
      ],
      "metadata": {
        "id": "QnUOMDglKE9k",
        "outputId": "f64e28f1-454f-41ac-98ac-9875cd127f21",
        "colab": {
          "base_uri": "https://localhost:8080/",
          "height": 335
        }
      },
      "execution_count": 182,
      "outputs": [
        {
          "output_type": "execute_result",
          "data": {
            "text/html": [
              "<iframe width=\"560\" height=\"315\" src=\"https://www.youtube.com/embed/AzjHTYT8nyU\" title=\"YouTube video player\" frameborder=\"0\" allow=\"accelerometer; autoplay; clipboard-write; encrypted-media; gyroscope; picture-in-picture\" allowfullscreen></iframe>"
            ],
            "text/plain": [
              "<IPython.core.display.HTML object>"
            ]
          },
          "metadata": {},
          "execution_count": 182
        }
      ]
    },
    {
      "cell_type": "markdown",
      "source": [
        "## Regression Methods of Estimating Elasticity\n",
        "This section is optional but may help you to understand what is going on under the hood\n",
        "\n",
        "#### What is the best fit line that can possibly be made given the data?  \n",
        "\n",
        "# $Y = \\beta_x X + \\beta_0 + \\epsilon$\n",
        "Think $Y=mX+b$ where $m=\\beta_x$ and $b=\\beta_0$ and $\\epsilon$ is an error term\n",
        "\n",
        "#### If the data is given then a line is defined by the coefficients $\\beta_x , \\beta_0$\n",
        "\n",
        "#### Find the \"best\" values of $\\beta_x , \\beta_0$.  where \"best\" minimizes statistical error $\\epsilon$\n",
        "\n",
        "How can we sum up all errors?  Some are positive and some are negative?  Solution: define the error as the squared error loss $$\\sum\\epsilon^2$$ \n",
        "\n",
        "# Own Price-Elasticity of Demand\n",
        "# $Q_x = \\beta_0 + \\beta_x P_x + \\epsilon$\n",
        "where: \n",
        "\n",
        "*   $Q_x$ is the quantity of good X\n",
        "*   $P_x$ is the price of good X\n",
        "*   $P_y$ is the price of good Y\n",
        "\n",
        "The Price-Elasticity of Demand is given by:\n",
        "\n",
        "$\\frac{\\Delta Q_x}{\\Delta P_x} \\frac{P_x}{Q_x} = \\beta_x \\frac{P_x}{Q_x}$\n",
        "\n",
        "# Cross-Price-Elasticity\n",
        "\n",
        "# $Q_x = \\beta_0 + \\beta_x P_x + \\beta_y P_y + \\epsilon$\n",
        "where: \n",
        "\n",
        "\n",
        "*   $Q_x$ is the quantity of good X\n",
        "*   $P_x$ is the price of good X\n",
        "*   $P_y$ is the price of good Y\n",
        "\n"
      ],
      "metadata": {
        "id": "Tt7B62kOGsH4"
      }
    },
    {
      "cell_type": "markdown",
      "source": [
        "### Own Price Elasticity of Demand"
      ],
      "metadata": {
        "id": "0uVmAMtwR81L"
      }
    },
    {
      "cell_type": "code",
      "source": [
        "import numpy as np\n",
        "from sklearn.linear_model import LinearRegression\n",
        "\n",
        "def own_price(Q_brand=True, Q_container=True, PricePoint=True):\n",
        "\n",
        "  Athens(Q_brand=Q_brand,Q_container=Q_container,P_brand=Q_brand,P_container=Q_container)\n",
        "  Qx = df_city['mean_q']['Athens'][Q_brand][Q_container].values.reshape(-1,1) #convert to numpy array using \"values\"\n",
        "  # define dependent variable Y\n",
        "  Px = df_city['mean_p']['Athens'][Q_brand][Q_container].values.reshape(-1,1)\n",
        "\n",
        "  reg = LinearRegression().fit(Px, Qx)\n",
        "  reg.score(Px, Qx)\n",
        "  P=PricePoint\n",
        "  Q_hat=reg.predict(np.array(P).reshape(-1, 1))\n",
        "  \n",
        "  return reg.coef_ * (P/Q_hat)\n",
        "\n",
        "#own_price(Q_brand='adult-cola', Q_container='glass', PricePoint=1.3)"
      ],
      "metadata": {
        "id": "wfGR-3gnGvHT"
      },
      "execution_count": 165,
      "outputs": []
    },
    {
      "cell_type": "markdown",
      "source": [
        "### Cross-Price Elasticity of Demand"
      ],
      "metadata": {
        "id": "vxewbNRiSAec"
      }
    },
    {
      "cell_type": "code",
      "source": [
        "import numpy as np\n",
        "from sklearn.linear_model import LinearRegression\n",
        "\n",
        "\n",
        "def cross_price(Q_brand=True, Q_container=True, P_brand=True, P_container=True, PricePoint=True):\n",
        "\n",
        "  Athens(Q_brand=Q_brand,Q_container=Q_container,P_brand=P_brand,P_container=P_container)\n",
        "  Qx = df_city['mean_q']['Athens'][Q_brand][Q_container].values.reshape(-1,1) #convert to numpy array using \"values\"\n",
        "  # define dependent variable Y\n",
        "  Px1 = df_city['mean_p']['Athens'][Q_brand][Q_container].values.reshape(-1,1)\n",
        "  Px2 = df_city['mean_p']['Athens'][P_brand][P_container].values.reshape(-1,1)\n",
        "  Px = np.concatenate((Px1, Px2), axis=1)\n",
        "\n",
        "  mPx1 = np.mean(Px1)\n",
        "  \n",
        "\n",
        "  mod = sm.OLS(Qx,Px)\n",
        "  fii = mod.fit()\n",
        "  p_values = fii.summary2().tables[1]['P>|t|']\n",
        "\n",
        "  reg = LinearRegression().fit(Px, Qx)\n",
        "  reg.score(Px, Qx)\n",
        "  P=np.array([[mPx1, PricePoint]])\n",
        "  Q_hat=reg.predict(P)\n",
        "  \n",
        "  return print('the cross-price-elasticity for ' + P_brand + ' is =' + str((reg.coef_ *(PricePoint/Q_hat))[0][1]))\n",
        "\n",
        "\n"
      ],
      "metadata": {
        "id": "QjdrQm0tQxTz"
      },
      "execution_count": 166,
      "outputs": []
    },
    {
      "cell_type": "code",
      "source": [
        "brands=['adult-cola', 'gazoza', 'kinder-cola', 'lemon-boost', 'orange-power']\n",
        "\n",
        "def cross_price_plot(brand=True, container=True):\n",
        "  for i in brands:\n",
        "    if i !=brand:\n",
        "      PricePoint=np.mean(df_city['mean_p']['Athens'][i][container])\n",
        "      cross_price(Q_brand=brand, Q_container=container, P_brand=i, P_container=container, PricePoint=PricePoint)"
      ],
      "metadata": {
        "id": "UIIXfhkFydgf"
      },
      "execution_count": 167,
      "outputs": []
    },
    {
      "cell_type": "markdown",
      "source": [
        "# Skip to HERE (after you understand the underlying data)\n",
        "Go to the Colab toolbar at the top of the page and click:  \n",
        "\n",
        "Runtime --> Run Before\n",
        "\n",
        "Now you can proceed through this sheet cell by cell.  Make sure to execute each cell below as you encounter it or else subsequent cells may not work. "
      ],
      "metadata": {
        "id": "2BUlP4oNkCpG"
      }
    },
    {
      "cell_type": "markdown",
      "source": [
        "### Example"
      ],
      "metadata": {
        "id": "e2yfIL2us5AM"
      }
    },
    {
      "cell_type": "code",
      "source": [
        "# Example: Scatter plot quantity of adult-cola cans with price of lemon-boost glass bottles\n",
        "Athens(Q_brand='adult-cola', Q_container='can', P_brand='adult-cola', P_container='can')"
      ],
      "metadata": {
        "id": "ZAvLuMRXtEow",
        "outputId": "bf4d3f68-6657-43ab-9954-942190b9a58d",
        "colab": {
          "base_uri": "https://localhost:8080/",
          "height": 295
        }
      },
      "execution_count": 169,
      "outputs": [
        {
          "output_type": "display_data",
          "data": {
            "image/png": "[encoded data removed]",
            "text/plain": [
              "<Figure size 432x288 with 1 Axes>"
            ]
          },
          "metadata": {
            "needs_background": "light"
          }
        }
      ]
    },
    {
      "cell_type": "markdown",
      "source": [
        "## Exercise Interpretation\n",
        "Modify the code blocks in this section to answer the questions for your assignment"
      ],
      "metadata": {
        "id": "-ljEnCLRbzHo"
      }
    },
    {
      "cell_type": "code",
      "source": [
        "HTML('<iframe width=\"560\" height=\"315\" src=\"https://www.youtube.com/embed/QZI90v7bLdw\" title=\"YouTube video player\" frameborder=\"0\" allow=\"accelerometer; autoplay; clipboard-write; encrypted-media; gyroscope; picture-in-picture\" allowfullscreen></iframe>')"
      ],
      "metadata": {
        "id": "KBzhyaZbI7pk",
        "outputId": "f655012e-2489-4c5e-b5ff-ee6a2fb71621",
        "colab": {
          "base_uri": "https://localhost:8080/",
          "height": 335
        }
      },
      "execution_count": 180,
      "outputs": [
        {
          "output_type": "execute_result",
          "data": {
            "text/html": [
              "<iframe width=\"560\" height=\"315\" src=\"https://www.youtube.com/embed/QZI90v7bLdw\" title=\"YouTube video player\" frameborder=\"0\" allow=\"accelerometer; autoplay; clipboard-write; encrypted-media; gyroscope; picture-in-picture\" allowfullscreen></iframe>"
            ],
            "text/plain": [
              "<IPython.core.display.HTML object>"
            ]
          },
          "metadata": {},
          "execution_count": 180
        }
      ]
    },
    {
      "cell_type": "markdown",
      "source": [
        "### Use the Athens function to scatter the quanitity of adult-cola cans against its' own price\n",
        "\n",
        "```\n",
        "Athens(Q_brand=BRAND, Q_container=CONTAINER, P_brand=BRAND, P_container=CONTAINER)\n",
        "```\n",
        "\n"
      ],
      "metadata": {
        "id": "jlHTQqCUcKk_"
      }
    },
    {
      "cell_type": "markdown",
      "source": [
        "####**QUESTION 1:**  \n",
        "Is there a positive or negative relationship?"
      ],
      "metadata": {
        "id": "e2yn99pvjIhe"
      }
    },
    {
      "cell_type": "code",
      "source": [
        "#Replace BRAND, CONTAINER in the Athens function to support your answer\n",
        "Athens(Q_brand=BRAND, Q_container=CONTAINER, P_brand=BRAND, P_container=CONTAINER)"
      ],
      "metadata": {
        "id": "nftt3DKWswl5"
      },
      "execution_count": null,
      "outputs": []
    },
    {
      "cell_type": "markdown",
      "source": [
        "### Substitutes or Not-Related? \n",
        "If goods A and B are substitutes then we would expect that higher prices of good A would be positively related to higher quantities of good B\n",
        "\n",
        "If goods A and B are not related then we would expect a scatter plot of the Quantity of good A and the Price of good B to have neither a positive nor negative relationship\n"
      ],
      "metadata": {
        "id": "mzp8QHkbc_td"
      }
    },
    {
      "cell_type": "markdown",
      "source": [
        "#### Application:  Revenue Canibalism \n",
        "Consider that if two goods, within a firm's product basket, are substitutes, then a promoting one product with a price decrease can canibalize the sale of another product in your brand, thus reducing or even having a negative impact on your overall brand sales.  On the other hand if goods are not related then dropping the price on one product line might have minimal impact on the sales of other brands.  \n"
      ],
      "metadata": {
        "id": "fsD4C3kMeBgk"
      }
    },
    {
      "cell_type": "markdown",
      "source": [
        "#####**QUESTION 2:**  \n",
        "You are the brand ambassador for adult-cola.  Do you have any concerns for canibalism if you drop your price on cans?  In other words, do you see any potential negative impact on your sales of glass or plastic products?\n"
      ],
      "metadata": {
        "id": "co5NQb_wi49v"
      }
    },
    {
      "cell_type": "code",
      "source": [
        "#Replace BRAND, CONTAINER in the Athens function to support your answer\n",
        "Athens(Q_brand=BRAND, Q_container='plastic', P_brand=BRAND, P_container=CONTAINER)\n",
        "Athens(Q_brand=BRAND, Q_container='glass', P_brand=BRAND, P_container=CONTAINER)"
      ],
      "metadata": {
        "id": "o4SU8oJ9sCFt"
      },
      "execution_count": null,
      "outputs": []
    },
    {
      "cell_type": "markdown",
      "source": [
        "##### **QUESTION 3:**"
      ],
      "metadata": {
        "id": "7NZ-Sov1jWuc"
      }
    },
    {
      "cell_type": "markdown",
      "source": [
        "You are the store manager:  Do you have any concerns of canibalism of gazoza cans if you drop the price of adult-cola cans?"
      ],
      "metadata": {
        "id": "wv2FX0IIjsRq"
      }
    },
    {
      "cell_type": "code",
      "source": [
        "#Replace BRAND, CONTAINER in the Athens function to support your answer\n",
        "Athens(Q_brand=BRAND, Q_container=CONTAINER, P_brand=BRAND, P_container=CONTAINER)\n"
      ],
      "metadata": {
        "id": "rTHdxbqMslTC"
      },
      "execution_count": null,
      "outputs": []
    },
    {
      "cell_type": "markdown",
      "source": [
        "##### **QUESTION 4:**\n",
        "\n",
        "Do you find any evidence of substitution effects between adult-cola cans and kinder-cola cans?\n",
        "\n",
        "How about orange-power cans and lemon-boost cans?\n"
      ],
      "metadata": {
        "id": "aadu4ThClCIF"
      }
    },
    {
      "cell_type": "code",
      "source": [
        "#Replace BRAND, CONTAINER in the Athens function to support your answer\n",
        "Athens(Q_brand=BRAND, Q_container=CONTAINER, P_brand=BRAND, P_container=CONTAINER)\n",
        "#Replace BRAND, CONTAINER in the Athens function to support your answer\n",
        "Athens(Q_brand=BRAND, Q_container=CONTAINER, P_brand=BRAND, P_container=CONTAINER)"
      ],
      "metadata": {
        "id": "yDRvOW98sqm3"
      },
      "execution_count": null,
      "outputs": []
    },
    {
      "cell_type": "code",
      "source": [
        ""
      ],
      "metadata": {
        "id": "oAgC5lcmwN3h"
      },
      "execution_count": null,
      "outputs": []
    },
    {
      "cell_type": "markdown",
      "source": [
        "# Elasticity Starts Here\n",
        "Before we measured quantity and price in terms of levels.  This is not desireable for many reasons.  Elasticity is defined in terms of percentage change and this changes depending on where we are along the demand curve \n",
        "\n",
        "Your textbook gives you a formula for calculating percentage change using the mid-point-method.  I will use a different method, which is based on Linear Regression.  A high level overview of regression methods is located in a separate section above.  \n",
        "\n",
        "The key point to remember is that we still have only correlation, NOT causation.  Causation is what we would like to have.  In words, we would like to know the percentage change in quanitity demand that results from a percentage change in price.  HOWEVER, our data is from market outcomes (prices and quanitities) that are influenced by BOTH supply AND demand.  Thus our data is NOT a pure relationship between price and quanitity.  We need more advanced statistics to get a causal relationship but let us begin here with Correlation. "
      ],
      "metadata": {
        "id": "BLQs9l24lg7n"
      }
    },
    {
      "cell_type": "code",
      "source": [
        "\n",
        "HTML('<iframe width=\"560\" height=\"315\" src=\"https://www.youtube.com/embed/BHpqF06i2ZI\" title=\"YouTube video player\" frameborder=\"0\" allow=\"accelerometer; autoplay; clipboard-write; encrypted-media; gyroscope; picture-in-picture\" allowfullscreen></iframe>')\n"
      ],
      "metadata": {
        "id": "Pyc6_wsGH-h6",
        "outputId": "14fbb58c-8b6b-455f-b322-2c9f1803ecee",
        "colab": {
          "base_uri": "https://localhost:8080/",
          "height": 335
        }
      },
      "execution_count": 179,
      "outputs": [
        {
          "output_type": "execute_result",
          "data": {
            "text/html": [
              "<iframe width=\"560\" height=\"315\" src=\"https://www.youtube.com/embed/BHpqF06i2ZI\" title=\"YouTube video player\" frameborder=\"0\" allow=\"accelerometer; autoplay; clipboard-write; encrypted-media; gyroscope; picture-in-picture\" allowfullscreen></iframe>"
            ],
            "text/plain": [
              "<IPython.core.display.HTML object>"
            ]
          },
          "metadata": {},
          "execution_count": 179
        }
      ]
    },
    {
      "cell_type": "markdown",
      "source": [
        "### Evaluating Competition\n",
        "We can use an analysis of cross-price-elasticity to estimate which brands are in competition with one another, which are not and the degree of substitution or complementarity. \n",
        "\n",
        "We will do this brand-by-brand.  Your job is to run the code blocks and interpret the findings. "
      ],
      "metadata": {
        "id": "4ikjvf35qgGX"
      }
    },
    {
      "cell_type": "code",
      "source": [
        "HTML('<iframe width=\"560\" height=\"315\" src=\"https://www.youtube.com/embed/ZajwdmX_S50\" title=\"YouTube video player\" frameborder=\"0\" allow=\"accelerometer; autoplay; clipboard-write; encrypted-media; gyroscope; picture-in-picture\" allowfullscreen></iframe>')"
      ],
      "metadata": {
        "id": "f9A7AZEpJ9F5",
        "outputId": "aa17fb86-9a46-407c-d32b-5b1f4e4067da",
        "colab": {
          "base_uri": "https://localhost:8080/",
          "height": 335
        }
      },
      "execution_count": 181,
      "outputs": [
        {
          "output_type": "execute_result",
          "data": {
            "text/html": [
              "<iframe width=\"560\" height=\"315\" src=\"https://www.youtube.com/embed/ZajwdmX_S50\" title=\"YouTube video player\" frameborder=\"0\" allow=\"accelerometer; autoplay; clipboard-write; encrypted-media; gyroscope; picture-in-picture\" allowfullscreen></iframe>"
            ],
            "text/plain": [
              "<IPython.core.display.HTML object>"
            ]
          },
          "metadata": {},
          "execution_count": 181
        }
      ]
    },
    {
      "cell_type": "markdown",
      "source": [
        "### Your Tools (functions to use)\n",
        "\n",
        "**Price Elasticity of Demand Function**\n",
        "\n",
        "```\n",
        "own_price(Q_brand=True, Q_container=True, PricePoint=True)\n",
        "\n",
        "```\n",
        "Example: \n",
        "``` \n",
        "own_price(Q_brand='adult-cola', Q_container='plastic', PricePoint=2)\n",
        "```\n",
        "\n",
        "\n",
        "Computes the price elasticity of demand for a brand, container type at a given Price Point.  You can enter different price points and evaluate how the elasticity of demand changes.  \n",
        "\n",
        "**NOTE** Be careful to enter prices that are reasonable (within the min and max of observable prices), but feel free to enter extreme values and see how the model behaves\n",
        "\n",
        "**Cross Price Elasticity of Demand Function**\n",
        "\n",
        "\n",
        "\n",
        "```\n",
        "cross_price(Q_brand=True, Q_container=True, P_brand=True, P_container=True, PricePoint=True)\n",
        "```\n",
        "\n",
        "\n",
        "Computes the cross price elasticity of demand for a brand, container type at a given Price Point.  You can enter different price points and evaluate how the elasticity of demand changes.  \n",
        "\n",
        "**NOTE** Be careful to enter prices that are reasonable (within the min and max of observable prices), but feel free to enter extreme values and see how the model behaves\n",
        "\n",
        "\n",
        "**Cross Price Plot**\n",
        "\n",
        "Calculates and plots multiple cross-price elasticities for a given brand and container.\n",
        "\n",
        "```\n",
        "cross_price_plot(brand=True, container=True)\n",
        "```\n",
        "\n",
        "Example: \n",
        "\n",
        "```\n",
        "cross_price_plot(brand='adult-cola', container='plastic')\n",
        "```"
      ],
      "metadata": {
        "id": "1kMJ12F6zVWY"
      }
    },
    {
      "cell_type": "markdown",
      "source": [
        "<iframe width=\"560\" height=\"315\" src=\"https://www.youtube.com/embed/ZajwdmX_S50\" title=\"YouTube video player\" frameborder=\"0\" allow=\"accelerometer; autoplay; clipboard-write; encrypted-media; gyroscope; picture-in-picture\" allowfullscreen></iframe>"
      ],
      "metadata": {
        "id": "ROYJk1ySEAZF"
      }
    },
    {
      "cell_type": "markdown",
      "source": [
        "<iframe width=\"560\" height=\"315\" src=\"https://www.youtube.com/embed/ZajwdmX_S50\" title=\"YouTube video player\" frameborder=\"0\" allow=\"accelerometer; autoplay; clipboard-write; encrypted-media; gyroscope; picture-in-picture\" allowfullscreen></iframe>"
      ],
      "metadata": {
        "id": "R0ZlVOFZEVKt"
      }
    },
    {
      "cell_type": "code",
      "source": [
        "cross_price(Q_brand='adult-cola', Q_container='can', P_brand='gazoza', P_container='can', PricePoint=.)"
      ],
      "metadata": {
        "id": "dSpKPnc1COXe",
        "outputId": "5d40efb6-26ad-4917-9acd-33032282e126",
        "colab": {
          "base_uri": "https://localhost:8080/",
          "height": 313
        }
      },
      "execution_count": 176,
      "outputs": [
        {
          "output_type": "display_data",
          "data": {
            "image/png": "[encoded data removed]",
            "text/plain": [
              "<Figure size 432x288 with 1 Axes>"
            ]
          },
          "metadata": {
            "needs_background": "light"
          }
        },
        {
          "output_type": "stream",
          "name": "stdout",
          "text": [
            "the cross-price-elasticity for gazoza is =0.32071812237721814\n"
          ]
        }
      ]
    },
    {
      "cell_type": "code",
      "source": [
        "own_price(Q_brand='adult-cola',Q_container='plastic',PricePoint=1.5)"
      ],
      "metadata": {
        "id": "PEL6ogPI9PeH",
        "outputId": "0372f60e-d0b6-4b6c-8ad6-a25dbfec8251",
        "colab": {
          "base_uri": "https://localhost:8080/",
          "height": 313
        }
      },
      "execution_count": 172,
      "outputs": [
        {
          "output_type": "display_data",
          "data": {
            "image/png": "[encoded data removed]",
            "text/plain": [
              "<Figure size 432x288 with 1 Axes>"
            ]
          },
          "metadata": {
            "needs_background": "light"
          }
        },
        {
          "output_type": "execute_result",
          "data": {
            "text/plain": [
              "array([[-0.42276465]])"
            ]
          },
          "metadata": {},
          "execution_count": 172
        }
      ]
    },
    {
      "cell_type": "markdown",
      "source": [
        "#### Example: A market analysis for Adult-Cola: plastic\n",
        "Can you look at the plots and cross-price-elasticities and see which products have the strongest substitution or complementarity effects (correlations)?"
      ],
      "metadata": {
        "id": "VVdjxtqy1eZ5"
      }
    },
    {
      "cell_type": "code",
      "source": [
        "cross_price_plot(brand='adult-cola',container='plastic')"
      ],
      "metadata": {
        "id": "X2iDdsPuqjK3",
        "outputId": "cc9a0d31-05dd-480f-b2b9-be990e04c587",
        "colab": {
          "base_uri": "https://localhost:8080/",
          "height": 1000
        }
      },
      "execution_count": 177,
      "outputs": [
        {
          "output_type": "display_data",
          "data": {
            "image/png": "[encoded data removed]",
            "text/plain": [
              "<Figure size 432x288 with 1 Axes>"
            ]
          },
          "metadata": {
            "needs_background": "light"
          }
        },
        {
          "output_type": "stream",
          "name": "stdout",
          "text": [
            "the cross-price-elasticity for gazoza is =0.17819199077580666\n"
          ]
        },
        {
          "output_type": "display_data",
          "data": {
            "image/png": "[encoded data removed]",
            "text/plain": [
              "<Figure size 432x288 with 1 Axes>"
            ]
          },
          "metadata": {
            "needs_background": "light"
          }
        },
        {
          "output_type": "stream",
          "name": "stdout",
          "text": [
            "the cross-price-elasticity for kinder-cola is =0.0909081976134235\n"
          ]
        },
        {
          "output_type": "display_data",
          "data": {
            "image/png": "[encoded data removed]",
            "text/plain": [
              "<Figure size 432x288 with 1 Axes>"
            ]
          },
          "metadata": {
            "needs_background": "light"
          }
        },
        {
          "output_type": "stream",
          "name": "stdout",
          "text": [
            "the cross-price-elasticity for lemon-boost is =0.04662474046011142\n"
          ]
        },
        {
          "output_type": "display_data",
          "data": {
            "image/png": "[encoded data removed]",
            "text/plain": [
              "<Figure size 432x288 with 1 Axes>"
            ]
          },
          "metadata": {
            "needs_background": "light"
          }
        },
        {
          "output_type": "stream",
          "name": "stdout",
          "text": [
            "the cross-price-elasticity for orange-power is =0.05720594606496297\n"
          ]
        }
      ]
    },
    {
      "cell_type": "markdown",
      "source": [
        "## Statistical Significance\n",
        "NOT COVERED.  SKIP THIS SECTION"
      ],
      "metadata": {
        "id": "NH1fLFj-ncyT"
      }
    },
    {
      "cell_type": "code",
      "source": [
        "\n",
        "Qx = df_city['mean_q']['Athens']['adult-cola']['can'].values.reshape(-1,1) #convert to numpy array using \"values\"\n",
        "# define dependent variable Y\n",
        "Px1 = df_city['mean_p']['Athens']['adult-cola']['can'].values.reshape(-1,1)\n",
        "Px2 = df_city['mean_p']['Athens']['lemon-boost']['can'].values.reshape(-1,1)\n",
        "Px = np.concatenate((Px1, Px2), axis=1)\n",
        "\n",
        "mPx1 = np.mean(Px1)\n",
        "\n",
        "reg = LinearRegression().fit(Px, Qx)\n",
        "reg.score(Px, Qx)\n",
        "P=np.array([[1 ,mPx1]])\n",
        "Q_hat=reg.predict(P)\n",
        "Q_hat\n",
        "\n",
        "import statsmodels.api as sm\n",
        "mod = sm.OLS(Qx,Px)\n",
        "fii = mod.fit()\n",
        "fii.summary2()\n"
      ],
      "metadata": {
        "id": "q8lLAG8fVGyH",
        "outputId": "d6e97c89-7dfa-48a7-e816-668263a42b5c",
        "colab": {
          "base_uri": "https://localhost:8080/",
          "height": 322
        }
      },
      "execution_count": null,
      "outputs": [
        {
          "output_type": "execute_result",
          "data": {
            "text/html": [
              "<table class=\"simpletable\">\n",
              "<tr>\n",
              "          <td>Model:</td>                 <td>OLS</td>       <td>Adj. R-squared (uncentered):</td>    <td>0.889</td>  \n",
              "</tr>\n",
              "<tr>\n",
              "    <td>Dependent Variable:</td>           <td>y</td>                    <td>AIC:</td>              <td>1776.2149</td>\n",
              "</tr>\n",
              "<tr>\n",
              "           <td>Date:</td>          <td>2022-02-21 23:27</td>             <td>BIC:</td>              <td>1781.0765</td>\n",
              "</tr>\n",
              "<tr>\n",
              "     <td>No. Observations:</td>           <td>84</td>               <td>Log-Likelihood:</td>         <td>-886.11</td> \n",
              "</tr>\n",
              "<tr>\n",
              "         <td>Df Model:</td>                <td>2</td>                <td>F-statistic:</td>            <td>338.9</td>  \n",
              "</tr>\n",
              "<tr>\n",
              "       <td>Df Residuals:</td>             <td>82</td>             <td>Prob (F-statistic):</td>      <td>2.27e-40</td> \n",
              "</tr>\n",
              "<tr>\n",
              "  <td>R-squared (uncentered):</td>       <td>0.892</td>                 <td>Scale:</td>            <td>8.7226e+07</td>\n",
              "</tr>\n",
              "</table>\n",
              "<table class=\"simpletable\">\n",
              "<tr>\n",
              "   <td></td>     <th>Coef.</th>    <th>Std.Err.</th>     <th>t</th>     <th>P>|t|</th>   <th>[0.025</th>      <th>0.975]</th>  \n",
              "</tr>\n",
              "<tr>\n",
              "  <th>x1</th> <td>-13178.5885</td> <td>6407.0865</td> <td>-2.0569</td> <td>0.0429</td> <td>-25924.3246</td>  <td>-432.8523</td>\n",
              "</tr>\n",
              "<tr>\n",
              "  <th>x2</th> <td>62720.6036</td>  <td>7632.5692</td> <td>8.2175</td>  <td>0.0000</td> <td>47536.9921</td>  <td>77904.2151</td>\n",
              "</tr>\n",
              "</table>\n",
              "<table class=\"simpletable\">\n",
              "<tr>\n",
              "     <td>Omnibus:</td>    <td>2.352</td>  <td>Durbin-Watson:</td>   <td>1.168</td>\n",
              "</tr>\n",
              "<tr>\n",
              "  <td>Prob(Omnibus):</td> <td>0.308</td> <td>Jarque-Bera (JB):</td> <td>2.085</td>\n",
              "</tr>\n",
              "<tr>\n",
              "       <td>Skew:</td>     <td>0.386</td>     <td>Prob(JB):</td>     <td>0.353</td>\n",
              "</tr>\n",
              "<tr>\n",
              "     <td>Kurtosis:</td>   <td>2.967</td>  <td>Condition No.:</td>     <td>8</td>  \n",
              "</tr>\n",
              "</table>"
            ],
            "text/plain": [
              "<class 'statsmodels.iolib.summary2.Summary'>\n",
              "\"\"\"\n",
              "                        Results: Ordinary least squares\n",
              "================================================================================\n",
              "Model:                  OLS              Adj. R-squared (uncentered): 0.889     \n",
              "Dependent Variable:     y                AIC:                         1776.2149 \n",
              "Date:                   2022-02-21 23:27 BIC:                         1781.0765 \n",
              "No. Observations:       84               Log-Likelihood:              -886.11   \n",
              "Df Model:               2                F-statistic:                 338.9     \n",
              "Df Residuals:           82               Prob (F-statistic):          2.27e-40  \n",
              "R-squared (uncentered): 0.892            Scale:                       8.7226e+07\n",
              "-----------------------------------------------------------------------------------\n",
              "            Coef.        Std.Err.       t       P>|t|        [0.025        0.975]  \n",
              "-----------------------------------------------------------------------------------\n",
              "x1       -13178.5885    6407.0865    -2.0569    0.0429    -25924.3246     -432.8523\n",
              "x2        62720.6036    7632.5692     8.2175    0.0000     47536.9921    77904.2151\n",
              "--------------------------------------------------------------------------------\n",
              "Omnibus:                   2.352             Durbin-Watson:                1.168\n",
              "Prob(Omnibus):             0.308             Jarque-Bera (JB):             2.085\n",
              "Skew:                      0.386             Prob(JB):                     0.353\n",
              "Kurtosis:                  2.967             Condition No.:                8    \n",
              "================================================================================\n",
              "\n",
              "\"\"\""
            ]
          },
          "metadata": {},
          "execution_count": 131
        }
      ]
    }
  ]
}