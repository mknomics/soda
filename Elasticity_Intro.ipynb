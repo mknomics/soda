{
  "nbformat": 4,
  "nbformat_minor": 0,
  "metadata": {
    "colab": {
      "name": "Elasticity_Intro.ipynb",
      "provenance": [],
      "toc_visible": true,
      "authorship_tag": "ABX9TyOO3v9GN/8bhN+Yhsz+22Dr",
      "include_colab_link": true
    },
    "kernelspec": {
      "name": "python3",
      "display_name": "Python 3"
    },
    "language_info": {
      "name": "python"
    }
  },
  "cells": [
    {
      "cell_type": "markdown",
      "metadata": {
        "id": "view-in-github",
        "colab_type": "text"
      },
      "source": [
        "<a href=\"https://colab.research.google.com/github/mknomics/soda/blob/main/Elasticity_Intro.ipynb\" target=\"_parent\"><img src=\"https://colab.research.google.com/assets/colab-badge.svg\" alt=\"Open In Colab\"/></a>"
      ]
    },
    {
      "cell_type": "markdown",
      "source": [
        "# SODA DATA\n",
        "This dataset contains product level montly data for multiple stores and products within Greece.  \n",
        "\n",
        "\n",
        "**IMPORTANT DISCLAIMER**  I use this dataset to do a naive estimation of various demand equations BUT doing so is hazardously wrong in practice.  Why? The Data points in this set are the result of an interaction of BOTH supply AND demand.  Our interpretation of Demand is \"willingness-to-pay\".  A true demand schedule is more properly represented in the [Google Sheet](https://docs.google.com/spreadsheets/d/1w5R60JGle5JAWz_wFuQ7dutR948jm60gSvcUTqK2UUI/edit?usp=sharing) that we completed in class.  \n",
        "\n",
        "A more robust estimation would use causal analysis and other experimental methods not covered here. "
      ],
      "metadata": {
        "id": "2wxtzoe40zRN"
      }
    },
    {
      "cell_type": "markdown",
      "source": [
        "## Import Packages\n"
      ],
      "metadata": {
        "id": "Arf4X_ZP05Vb"
      }
    },
    {
      "cell_type": "code",
      "metadata": {
        "id": "Pi5w_-6i91p1"
      },
      "source": [
        "import pandas as pd  #pandas is good for data manipulation.  I rename it here as \"pd\" to make it easier to call in the script below.  I could rename it anything I want but \"pd\" is standard\n",
        "import matplotlib.pyplot as plt #matplotlib is a good package for graphing.  Again, I rename it plt to make coding more simple\n",
        "import numpy as np #numpy is a good package for doing calculations\n",
        "from sklearn.linear_model import LinearRegression  #sklearn is a package that is good at estimation.  Tons of models are available and here I import LinearRegression because that's all I need\n",
        "\n",
        "\n"
      ],
      "execution_count": null,
      "outputs": []
    },
    {
      "cell_type": "markdown",
      "source": [
        "## Get Some Data"
      ],
      "metadata": {
        "id": "Q58sVTsO1XB5"
      }
    },
    {
      "cell_type": "code",
      "source": [
        "\n",
        "#Import a csv file from a target url:  What is a csv file?  Go to the url below to see the raw data.  columns are separated by a \",\" and the last column lacks a \",\"\n",
        "data_url='https://raw.githubusercontent.com/mknomics/soda/main/soda.csv' # I define a string variable using apostrophe ' but I could ahve also used quotes \" \".  I just cannot mix apostophe and quotes in the same line\n",
        "df = pd.read_csv(data_url) # This line creates a pandas DataFrame that I defined as \"df\".  I could have called it anything I want\n",
        "\n",
        "# Set my date objects.  This must be done so that 'date' is recognized as a date and not just a random string variable\n",
        "df['date']=pd.to_datetime(df['date']) #make date a datetime object\n",
        "df['year']=pd.DatetimeIndex(df['date']).year # I define a variable 'year' using the DatetimeIndex method\n",
        "df['month']=pd.DatetimeIndex(df['date']).month # similarly I repeat and define 'month'\n",
        "\n"
      ],
      "metadata": {
        "id": "q03wib570yDi"
      },
      "execution_count": null,
      "outputs": []
    },
    {
      "cell_type": "markdown",
      "metadata": {
        "id": "DEsd0e5BYP2i"
      },
      "source": [
        "### Look at Data (below) df.head()\n",
        "### What are the levels of variation?\n",
        "1) time (month, year)\n",
        "\n",
        "2) geography (city)\n",
        "\n",
        "3) Store (shop, latitude, longitude)\n",
        "\n",
        "4) Brand\n",
        "\n",
        "5) Container (equivalent to capacity)\n"
      ]
    },
    {
      "cell_type": "code",
      "metadata": {
        "colab": {
          "base_uri": "https://localhost:8080/",
          "height": 206
        },
        "id": "8Bd2IGbwX36O",
        "outputId": "06f143b6-9d47-44e7-beda-09c5e300e0e1"
      },
      "source": [
        "df.head()"
      ],
      "execution_count": null,
      "outputs": [
        {
          "output_type": "execute_result",
          "data": {
            "text/html": [
              "\n",
              "  <div id=\"df-d4a54ffe-b047-48b8-8ec5-ad95554d62a7\">\n",
              "    <div class=\"colab-df-container\">\n",
              "      <div>\n",
              "<style scoped>\n",
              "    .dataframe tbody tr th:only-of-type {\n",
              "        vertical-align: middle;\n",
              "    }\n",
              "\n",
              "    .dataframe tbody tr th {\n",
              "        vertical-align: top;\n",
              "    }\n",
              "\n",
              "    .dataframe thead th {\n",
              "        text-align: right;\n",
              "    }\n",
              "</style>\n",
              "<table border=\"1\" class=\"dataframe\">\n",
              "  <thead>\n",
              "    <tr style=\"text-align: right;\">\n",
              "      <th></th>\n",
              "      <th>id</th>\n",
              "      <th>date</th>\n",
              "      <th>city</th>\n",
              "      <th>lat</th>\n",
              "      <th>long</th>\n",
              "      <th>pop</th>\n",
              "      <th>shop</th>\n",
              "      <th>brand</th>\n",
              "      <th>container</th>\n",
              "      <th>capacity</th>\n",
              "      <th>price</th>\n",
              "      <th>quantity</th>\n",
              "      <th>year</th>\n",
              "      <th>month</th>\n",
              "    </tr>\n",
              "  </thead>\n",
              "  <tbody>\n",
              "    <tr>\n",
              "      <th>0</th>\n",
              "      <td>1222</td>\n",
              "      <td>2013-02-28</td>\n",
              "      <td>Athens</td>\n",
              "      <td>37.96245</td>\n",
              "      <td>23.68708</td>\n",
              "      <td>671022</td>\n",
              "      <td>shop_3</td>\n",
              "      <td>adult-cola</td>\n",
              "      <td>plastic</td>\n",
              "      <td>1.5lt</td>\n",
              "      <td>2.46</td>\n",
              "      <td>10709</td>\n",
              "      <td>2013</td>\n",
              "      <td>2</td>\n",
              "    </tr>\n",
              "    <tr>\n",
              "      <th>1</th>\n",
              "      <td>1256</td>\n",
              "      <td>2013-02-28</td>\n",
              "      <td>Athens</td>\n",
              "      <td>37.97945</td>\n",
              "      <td>23.71622</td>\n",
              "      <td>671022</td>\n",
              "      <td>shop_1</td>\n",
              "      <td>adult-cola</td>\n",
              "      <td>plastic</td>\n",
              "      <td>1.5lt</td>\n",
              "      <td>1.91</td>\n",
              "      <td>12703</td>\n",
              "      <td>2013</td>\n",
              "      <td>2</td>\n",
              "    </tr>\n",
              "    <tr>\n",
              "      <th>2</th>\n",
              "      <td>2325</td>\n",
              "      <td>2014-02-28</td>\n",
              "      <td>Athens</td>\n",
              "      <td>37.97945</td>\n",
              "      <td>23.71622</td>\n",
              "      <td>668203</td>\n",
              "      <td>shop_1</td>\n",
              "      <td>adult-cola</td>\n",
              "      <td>plastic</td>\n",
              "      <td>1.5lt</td>\n",
              "      <td>3.99</td>\n",
              "      <td>3642</td>\n",
              "      <td>2014</td>\n",
              "      <td>2</td>\n",
              "    </tr>\n",
              "    <tr>\n",
              "      <th>3</th>\n",
              "      <td>2333</td>\n",
              "      <td>2014-02-28</td>\n",
              "      <td>Athens</td>\n",
              "      <td>37.96245</td>\n",
              "      <td>23.68708</td>\n",
              "      <td>668203</td>\n",
              "      <td>shop_3</td>\n",
              "      <td>adult-cola</td>\n",
              "      <td>plastic</td>\n",
              "      <td>1.5lt</td>\n",
              "      <td>2.82</td>\n",
              "      <td>9282</td>\n",
              "      <td>2014</td>\n",
              "      <td>2</td>\n",
              "    </tr>\n",
              "    <tr>\n",
              "      <th>4</th>\n",
              "      <td>3334</td>\n",
              "      <td>2015-02-28</td>\n",
              "      <td>Athens</td>\n",
              "      <td>37.97945</td>\n",
              "      <td>23.71622</td>\n",
              "      <td>667237</td>\n",
              "      <td>shop_1</td>\n",
              "      <td>adult-cola</td>\n",
              "      <td>plastic</td>\n",
              "      <td>1.5lt</td>\n",
              "      <td>1.29</td>\n",
              "      <td>15782</td>\n",
              "      <td>2015</td>\n",
              "      <td>2</td>\n",
              "    </tr>\n",
              "  </tbody>\n",
              "</table>\n",
              "</div>\n",
              "      <button class=\"colab-df-convert\" onclick=\"convertToInteractive('df-d4a54ffe-b047-48b8-8ec5-ad95554d62a7')\"\n",
              "              title=\"Convert this dataframe to an interactive table.\"\n",
              "              style=\"display:none;\">\n",
              "        \n",
              "  <svg xmlns=\"http://www.w3.org/2000/svg\" height=\"24px\"viewBox=\"0 0 24 24\"\n",
              "       width=\"24px\">\n",
              "    <path d=\"M0 0h24v24H0V0z\" fill=\"none\"/>\n",
              "    <path d=\"M18.56 5.44l.94 2.06.94-2.06 2.06-.94-2.06-.94-.94-2.06-.94 2.06-2.06.94zm-11 1L8.5 8.5l.94-2.06 2.06-.94-2.06-.94L8.5 2.5l-.94 2.06-2.06.94zm10 10l.94 2.06.94-2.06 2.06-.94-2.06-.94-.94-2.06-.94 2.06-2.06.94z\"/><path d=\"M17.41 7.96l-1.37-1.37c-.4-.4-.92-.59-1.43-.59-.52 0-1.04.2-1.43.59L10.3 9.45l-7.72 7.72c-.78.78-.78 2.05 0 2.83L4 21.41c.39.39.9.59 1.41.59.51 0 1.02-.2 1.41-.59l7.78-7.78 2.81-2.81c.8-.78.8-2.07 0-2.86zM5.41 20L4 18.59l7.72-7.72 1.47 1.35L5.41 20z\"/>\n",
              "  </svg>\n",
              "      </button>\n",
              "      \n",
              "  <style>\n",
              "    .colab-df-container {\n",
              "      display:flex;\n",
              "      flex-wrap:wrap;\n",
              "      gap: 12px;\n",
              "    }\n",
              "\n",
              "    .colab-df-convert {\n",
              "      background-color: #E8F0FE;\n",
              "      border: none;\n",
              "      border-radius: 50%;\n",
              "      cursor: pointer;\n",
              "      display: none;\n",
              "      fill: #1967D2;\n",
              "      height: 32px;\n",
              "      padding: 0 0 0 0;\n",
              "      width: 32px;\n",
              "    }\n",
              "\n",
              "    .colab-df-convert:hover {\n",
              "      background-color: #E2EBFA;\n",
              "      box-shadow: 0px 1px 2px rgba(60, 64, 67, 0.3), 0px 1px 3px 1px rgba(60, 64, 67, 0.15);\n",
              "      fill: #174EA6;\n",
              "    }\n",
              "\n",
              "    [theme=dark] .colab-df-convert {\n",
              "      background-color: #3B4455;\n",
              "      fill: #D2E3FC;\n",
              "    }\n",
              "\n",
              "    [theme=dark] .colab-df-convert:hover {\n",
              "      background-color: #434B5C;\n",
              "      box-shadow: 0px 1px 3px 1px rgba(0, 0, 0, 0.15);\n",
              "      filter: drop-shadow(0px 1px 2px rgba(0, 0, 0, 0.3));\n",
              "      fill: #FFFFFF;\n",
              "    }\n",
              "  </style>\n",
              "\n",
              "      <script>\n",
              "        const buttonEl =\n",
              "          document.querySelector('#df-d4a54ffe-b047-48b8-8ec5-ad95554d62a7 button.colab-df-convert');\n",
              "        buttonEl.style.display =\n",
              "          google.colab.kernel.accessAllowed ? 'block' : 'none';\n",
              "\n",
              "        async function convertToInteractive(key) {\n",
              "          const element = document.querySelector('#df-d4a54ffe-b047-48b8-8ec5-ad95554d62a7');\n",
              "          const dataTable =\n",
              "            await google.colab.kernel.invokeFunction('convertToInteractive',\n",
              "                                                     [key], {});\n",
              "          if (!dataTable) return;\n",
              "\n",
              "          const docLinkHtml = 'Like what you see? Visit the ' +\n",
              "            '<a target=\"_blank\" href=https://colab.research.google.com/notebooks/data_table.ipynb>data table notebook</a>'\n",
              "            + ' to learn more about interactive tables.';\n",
              "          element.innerHTML = '';\n",
              "          dataTable['output_type'] = 'display_data';\n",
              "          await google.colab.output.renderOutput(dataTable, element);\n",
              "          const docLink = document.createElement('div');\n",
              "          docLink.innerHTML = docLinkHtml;\n",
              "          element.appendChild(docLink);\n",
              "        }\n",
              "      </script>\n",
              "    </div>\n",
              "  </div>\n",
              "  "
            ],
            "text/plain": [
              "     id       date    city       lat  ...  price  quantity  year month\n",
              "0  1222 2013-02-28  Athens  37.96245  ...   2.46     10709  2013     2\n",
              "1  1256 2013-02-28  Athens  37.97945  ...   1.91     12703  2013     2\n",
              "2  2325 2014-02-28  Athens  37.97945  ...   3.99      3642  2014     2\n",
              "3  2333 2014-02-28  Athens  37.96245  ...   2.82      9282  2014     2\n",
              "4  3334 2015-02-28  Athens  37.97945  ...   1.29     15782  2015     2\n",
              "\n",
              "[5 rows x 14 columns]"
            ]
          },
          "metadata": {},
          "execution_count": 123
        }
      ]
    },
    {
      "cell_type": "code",
      "source": [
        "pd.crosstab(df['city'],df['shop'])"
      ],
      "metadata": {
        "colab": {
          "base_uri": "https://localhost:8080/",
          "height": 237
        },
        "id": "dlk1l_tJPUA-",
        "outputId": "fe932e7c-64e7-4a38-9c0b-cd9ca1bc0da4"
      },
      "execution_count": null,
      "outputs": [
        {
          "output_type": "execute_result",
          "data": {
            "text/html": [
              "\n",
              "  <div id=\"df-89a362c2-b8d7-4bee-8032-1da50350894f\">\n",
              "    <div class=\"colab-df-container\">\n",
              "      <div>\n",
              "<style scoped>\n",
              "    .dataframe tbody tr th:only-of-type {\n",
              "        vertical-align: middle;\n",
              "    }\n",
              "\n",
              "    .dataframe tbody tr th {\n",
              "        vertical-align: top;\n",
              "    }\n",
              "\n",
              "    .dataframe thead th {\n",
              "        text-align: right;\n",
              "    }\n",
              "</style>\n",
              "<table border=\"1\" class=\"dataframe\">\n",
              "  <thead>\n",
              "    <tr style=\"text-align: right;\">\n",
              "      <th>shop</th>\n",
              "      <th>shop_1</th>\n",
              "      <th>shop_2</th>\n",
              "      <th>shop_3</th>\n",
              "      <th>shop_4</th>\n",
              "      <th>shop_5</th>\n",
              "      <th>shop_6</th>\n",
              "    </tr>\n",
              "    <tr>\n",
              "      <th>city</th>\n",
              "      <th></th>\n",
              "      <th></th>\n",
              "      <th></th>\n",
              "      <th></th>\n",
              "      <th></th>\n",
              "      <th></th>\n",
              "    </tr>\n",
              "  </thead>\n",
              "  <tbody>\n",
              "    <tr>\n",
              "      <th>Athens</th>\n",
              "      <td>1260</td>\n",
              "      <td>0</td>\n",
              "      <td>1260</td>\n",
              "      <td>0</td>\n",
              "      <td>0</td>\n",
              "      <td>0</td>\n",
              "    </tr>\n",
              "    <tr>\n",
              "      <th>Irakleion</th>\n",
              "      <td>0</td>\n",
              "      <td>1260</td>\n",
              "      <td>0</td>\n",
              "      <td>0</td>\n",
              "      <td>0</td>\n",
              "      <td>0</td>\n",
              "    </tr>\n",
              "    <tr>\n",
              "      <th>Larisa</th>\n",
              "      <td>0</td>\n",
              "      <td>0</td>\n",
              "      <td>0</td>\n",
              "      <td>0</td>\n",
              "      <td>1260</td>\n",
              "      <td>0</td>\n",
              "    </tr>\n",
              "    <tr>\n",
              "      <th>Patra</th>\n",
              "      <td>0</td>\n",
              "      <td>0</td>\n",
              "      <td>0</td>\n",
              "      <td>0</td>\n",
              "      <td>0</td>\n",
              "      <td>1260</td>\n",
              "    </tr>\n",
              "    <tr>\n",
              "      <th>Thessaloniki</th>\n",
              "      <td>0</td>\n",
              "      <td>0</td>\n",
              "      <td>0</td>\n",
              "      <td>1260</td>\n",
              "      <td>0</td>\n",
              "      <td>0</td>\n",
              "    </tr>\n",
              "  </tbody>\n",
              "</table>\n",
              "</div>\n",
              "      <button class=\"colab-df-convert\" onclick=\"convertToInteractive('df-89a362c2-b8d7-4bee-8032-1da50350894f')\"\n",
              "              title=\"Convert this dataframe to an interactive table.\"\n",
              "              style=\"display:none;\">\n",
              "        \n",
              "  <svg xmlns=\"http://www.w3.org/2000/svg\" height=\"24px\"viewBox=\"0 0 24 24\"\n",
              "       width=\"24px\">\n",
              "    <path d=\"M0 0h24v24H0V0z\" fill=\"none\"/>\n",
              "    <path d=\"M18.56 5.44l.94 2.06.94-2.06 2.06-.94-2.06-.94-.94-2.06-.94 2.06-2.06.94zm-11 1L8.5 8.5l.94-2.06 2.06-.94-2.06-.94L8.5 2.5l-.94 2.06-2.06.94zm10 10l.94 2.06.94-2.06 2.06-.94-2.06-.94-.94-2.06-.94 2.06-2.06.94z\"/><path d=\"M17.41 7.96l-1.37-1.37c-.4-.4-.92-.59-1.43-.59-.52 0-1.04.2-1.43.59L10.3 9.45l-7.72 7.72c-.78.78-.78 2.05 0 2.83L4 21.41c.39.39.9.59 1.41.59.51 0 1.02-.2 1.41-.59l7.78-7.78 2.81-2.81c.8-.78.8-2.07 0-2.86zM5.41 20L4 18.59l7.72-7.72 1.47 1.35L5.41 20z\"/>\n",
              "  </svg>\n",
              "      </button>\n",
              "      \n",
              "  <style>\n",
              "    .colab-df-container {\n",
              "      display:flex;\n",
              "      flex-wrap:wrap;\n",
              "      gap: 12px;\n",
              "    }\n",
              "\n",
              "    .colab-df-convert {\n",
              "      background-color: #E8F0FE;\n",
              "      border: none;\n",
              "      border-radius: 50%;\n",
              "      cursor: pointer;\n",
              "      display: none;\n",
              "      fill: #1967D2;\n",
              "      height: 32px;\n",
              "      padding: 0 0 0 0;\n",
              "      width: 32px;\n",
              "    }\n",
              "\n",
              "    .colab-df-convert:hover {\n",
              "      background-color: #E2EBFA;\n",
              "      box-shadow: 0px 1px 2px rgba(60, 64, 67, 0.3), 0px 1px 3px 1px rgba(60, 64, 67, 0.15);\n",
              "      fill: #174EA6;\n",
              "    }\n",
              "\n",
              "    [theme=dark] .colab-df-convert {\n",
              "      background-color: #3B4455;\n",
              "      fill: #D2E3FC;\n",
              "    }\n",
              "\n",
              "    [theme=dark] .colab-df-convert:hover {\n",
              "      background-color: #434B5C;\n",
              "      box-shadow: 0px 1px 3px 1px rgba(0, 0, 0, 0.15);\n",
              "      filter: drop-shadow(0px 1px 2px rgba(0, 0, 0, 0.3));\n",
              "      fill: #FFFFFF;\n",
              "    }\n",
              "  </style>\n",
              "\n",
              "      <script>\n",
              "        const buttonEl =\n",
              "          document.querySelector('#df-89a362c2-b8d7-4bee-8032-1da50350894f button.colab-df-convert');\n",
              "        buttonEl.style.display =\n",
              "          google.colab.kernel.accessAllowed ? 'block' : 'none';\n",
              "\n",
              "        async function convertToInteractive(key) {\n",
              "          const element = document.querySelector('#df-89a362c2-b8d7-4bee-8032-1da50350894f');\n",
              "          const dataTable =\n",
              "            await google.colab.kernel.invokeFunction('convertToInteractive',\n",
              "                                                     [key], {});\n",
              "          if (!dataTable) return;\n",
              "\n",
              "          const docLinkHtml = 'Like what you see? Visit the ' +\n",
              "            '<a target=\"_blank\" href=https://colab.research.google.com/notebooks/data_table.ipynb>data table notebook</a>'\n",
              "            + ' to learn more about interactive tables.';\n",
              "          element.innerHTML = '';\n",
              "          dataTable['output_type'] = 'display_data';\n",
              "          await google.colab.output.renderOutput(dataTable, element);\n",
              "          const docLink = document.createElement('div');\n",
              "          docLink.innerHTML = docLinkHtml;\n",
              "          element.appendChild(docLink);\n",
              "        }\n",
              "      </script>\n",
              "    </div>\n",
              "  </div>\n",
              "  "
            ],
            "text/plain": [
              "shop          shop_1  shop_2  shop_3  shop_4  shop_5  shop_6\n",
              "city                                                        \n",
              "Athens          1260       0    1260       0       0       0\n",
              "Irakleion          0    1260       0       0       0       0\n",
              "Larisa             0       0       0       0    1260       0\n",
              "Patra              0       0       0       0       0    1260\n",
              "Thessaloniki       0       0       0    1260       0       0"
            ]
          },
          "metadata": {},
          "execution_count": 124
        }
      ]
    },
    {
      "cell_type": "markdown",
      "source": [
        "### Interpret dataset\n",
        "Each line represents the montly sales volume and average price for a specific brand/bottle type of cola that was sold in a specific store within Greece \n",
        "\n",
        "\n"
      ],
      "metadata": {
        "id": "oJPKK8eH1eKY"
      }
    },
    {
      "cell_type": "markdown",
      "metadata": {
        "id": "8P-WwdbCY5NK"
      },
      "source": [
        "### Descriptive Statistics\n"
      ]
    },
    {
      "cell_type": "code",
      "source": [
        "\n",
        "print(\"There are \" + str(df[['id']].nunique()[0]) + \" unique shops in this dataset\")\n",
        "df.describe()"
      ],
      "metadata": {
        "colab": {
          "base_uri": "https://localhost:8080/",
          "height": 318
        },
        "id": "gxm0zwhh_dsV",
        "outputId": "8b71404e-8b49-4f38-8ff5-c9ab786c649c"
      },
      "execution_count": null,
      "outputs": [
        {
          "output_type": "stream",
          "name": "stdout",
          "text": [
            "There are 7560 unique shops in this dataset\n"
          ]
        },
        {
          "output_type": "execute_result",
          "data": {
            "text/html": [
              "\n",
              "  <div id=\"df-b3887d7e-b0bb-49d3-80fd-f12aacfe9f91\">\n",
              "    <div class=\"colab-df-container\">\n",
              "      <div>\n",
              "<style scoped>\n",
              "    .dataframe tbody tr th:only-of-type {\n",
              "        vertical-align: middle;\n",
              "    }\n",
              "\n",
              "    .dataframe tbody tr th {\n",
              "        vertical-align: top;\n",
              "    }\n",
              "\n",
              "    .dataframe thead th {\n",
              "        text-align: right;\n",
              "    }\n",
              "</style>\n",
              "<table border=\"1\" class=\"dataframe\">\n",
              "  <thead>\n",
              "    <tr style=\"text-align: right;\">\n",
              "      <th></th>\n",
              "      <th>id</th>\n",
              "      <th>lat</th>\n",
              "      <th>long</th>\n",
              "      <th>pop</th>\n",
              "      <th>price</th>\n",
              "      <th>quantity</th>\n",
              "      <th>year</th>\n",
              "      <th>month</th>\n",
              "    </tr>\n",
              "  </thead>\n",
              "  <tbody>\n",
              "    <tr>\n",
              "      <th>count</th>\n",
              "      <td>7560.00000</td>\n",
              "      <td>7501.000000</td>\n",
              "      <td>7501.000000</td>\n",
              "      <td>7560.000000</td>\n",
              "      <td>7560.000000</td>\n",
              "      <td>7560.000000</td>\n",
              "      <td>7560.000000</td>\n",
              "      <td>7560.000000</td>\n",
              "    </tr>\n",
              "    <tr>\n",
              "      <th>mean</th>\n",
              "      <td>3779.50000</td>\n",
              "      <td>38.300808</td>\n",
              "      <td>23.270191</td>\n",
              "      <td>355174.095238</td>\n",
              "      <td>1.196049</td>\n",
              "      <td>29421.715212</td>\n",
              "      <td>2015.000000</td>\n",
              "      <td>6.500000</td>\n",
              "    </tr>\n",
              "    <tr>\n",
              "      <th>std</th>\n",
              "      <td>2182.52835</td>\n",
              "      <td>1.650503</td>\n",
              "      <td>1.087175</td>\n",
              "      <td>232441.012350</td>\n",
              "      <td>0.816838</td>\n",
              "      <td>17665.033867</td>\n",
              "      <td>2.000132</td>\n",
              "      <td>3.452281</td>\n",
              "    </tr>\n",
              "    <tr>\n",
              "      <th>min</th>\n",
              "      <td>0.00000</td>\n",
              "      <td>35.327870</td>\n",
              "      <td>21.734440</td>\n",
              "      <td>134219.000000</td>\n",
              "      <td>0.110000</td>\n",
              "      <td>2953.000000</td>\n",
              "      <td>2012.000000</td>\n",
              "      <td>1.000000</td>\n",
              "    </tr>\n",
              "    <tr>\n",
              "      <th>25%</th>\n",
              "      <td>1889.75000</td>\n",
              "      <td>37.962450</td>\n",
              "      <td>22.417610</td>\n",
              "      <td>141732.000000</td>\n",
              "      <td>0.620000</td>\n",
              "      <td>16572.750000</td>\n",
              "      <td>2013.000000</td>\n",
              "      <td>3.750000</td>\n",
              "    </tr>\n",
              "    <tr>\n",
              "      <th>50%</th>\n",
              "      <td>3779.50000</td>\n",
              "      <td>38.244440</td>\n",
              "      <td>22.930860</td>\n",
              "      <td>257501.500000</td>\n",
              "      <td>0.930000</td>\n",
              "      <td>25312.000000</td>\n",
              "      <td>2015.000000</td>\n",
              "      <td>6.500000</td>\n",
              "    </tr>\n",
              "    <tr>\n",
              "      <th>75%</th>\n",
              "      <td>5669.25000</td>\n",
              "      <td>39.636890</td>\n",
              "      <td>23.716220</td>\n",
              "      <td>665102.000000</td>\n",
              "      <td>1.510000</td>\n",
              "      <td>37751.500000</td>\n",
              "      <td>2017.000000</td>\n",
              "      <td>9.250000</td>\n",
              "    </tr>\n",
              "    <tr>\n",
              "      <th>max</th>\n",
              "      <td>7559.00000</td>\n",
              "      <td>40.643610</td>\n",
              "      <td>25.143410</td>\n",
              "      <td>672130.000000</td>\n",
              "      <td>4.790000</td>\n",
              "      <td>145287.000000</td>\n",
              "      <td>2018.000000</td>\n",
              "      <td>12.000000</td>\n",
              "    </tr>\n",
              "  </tbody>\n",
              "</table>\n",
              "</div>\n",
              "      <button class=\"colab-df-convert\" onclick=\"convertToInteractive('df-b3887d7e-b0bb-49d3-80fd-f12aacfe9f91')\"\n",
              "              title=\"Convert this dataframe to an interactive table.\"\n",
              "              style=\"display:none;\">\n",
              "        \n",
              "  <svg xmlns=\"http://www.w3.org/2000/svg\" height=\"24px\"viewBox=\"0 0 24 24\"\n",
              "       width=\"24px\">\n",
              "    <path d=\"M0 0h24v24H0V0z\" fill=\"none\"/>\n",
              "    <path d=\"M18.56 5.44l.94 2.06.94-2.06 2.06-.94-2.06-.94-.94-2.06-.94 2.06-2.06.94zm-11 1L8.5 8.5l.94-2.06 2.06-.94-2.06-.94L8.5 2.5l-.94 2.06-2.06.94zm10 10l.94 2.06.94-2.06 2.06-.94-2.06-.94-.94-2.06-.94 2.06-2.06.94z\"/><path d=\"M17.41 7.96l-1.37-1.37c-.4-.4-.92-.59-1.43-.59-.52 0-1.04.2-1.43.59L10.3 9.45l-7.72 7.72c-.78.78-.78 2.05 0 2.83L4 21.41c.39.39.9.59 1.41.59.51 0 1.02-.2 1.41-.59l7.78-7.78 2.81-2.81c.8-.78.8-2.07 0-2.86zM5.41 20L4 18.59l7.72-7.72 1.47 1.35L5.41 20z\"/>\n",
              "  </svg>\n",
              "      </button>\n",
              "      \n",
              "  <style>\n",
              "    .colab-df-container {\n",
              "      display:flex;\n",
              "      flex-wrap:wrap;\n",
              "      gap: 12px;\n",
              "    }\n",
              "\n",
              "    .colab-df-convert {\n",
              "      background-color: #E8F0FE;\n",
              "      border: none;\n",
              "      border-radius: 50%;\n",
              "      cursor: pointer;\n",
              "      display: none;\n",
              "      fill: #1967D2;\n",
              "      height: 32px;\n",
              "      padding: 0 0 0 0;\n",
              "      width: 32px;\n",
              "    }\n",
              "\n",
              "    .colab-df-convert:hover {\n",
              "      background-color: #E2EBFA;\n",
              "      box-shadow: 0px 1px 2px rgba(60, 64, 67, 0.3), 0px 1px 3px 1px rgba(60, 64, 67, 0.15);\n",
              "      fill: #174EA6;\n",
              "    }\n",
              "\n",
              "    [theme=dark] .colab-df-convert {\n",
              "      background-color: #3B4455;\n",
              "      fill: #D2E3FC;\n",
              "    }\n",
              "\n",
              "    [theme=dark] .colab-df-convert:hover {\n",
              "      background-color: #434B5C;\n",
              "      box-shadow: 0px 1px 3px 1px rgba(0, 0, 0, 0.15);\n",
              "      filter: drop-shadow(0px 1px 2px rgba(0, 0, 0, 0.3));\n",
              "      fill: #FFFFFF;\n",
              "    }\n",
              "  </style>\n",
              "\n",
              "      <script>\n",
              "        const buttonEl =\n",
              "          document.querySelector('#df-b3887d7e-b0bb-49d3-80fd-f12aacfe9f91 button.colab-df-convert');\n",
              "        buttonEl.style.display =\n",
              "          google.colab.kernel.accessAllowed ? 'block' : 'none';\n",
              "\n",
              "        async function convertToInteractive(key) {\n",
              "          const element = document.querySelector('#df-b3887d7e-b0bb-49d3-80fd-f12aacfe9f91');\n",
              "          const dataTable =\n",
              "            await google.colab.kernel.invokeFunction('convertToInteractive',\n",
              "                                                     [key], {});\n",
              "          if (!dataTable) return;\n",
              "\n",
              "          const docLinkHtml = 'Like what you see? Visit the ' +\n",
              "            '<a target=\"_blank\" href=https://colab.research.google.com/notebooks/data_table.ipynb>data table notebook</a>'\n",
              "            + ' to learn more about interactive tables.';\n",
              "          element.innerHTML = '';\n",
              "          dataTable['output_type'] = 'display_data';\n",
              "          await google.colab.output.renderOutput(dataTable, element);\n",
              "          const docLink = document.createElement('div');\n",
              "          docLink.innerHTML = docLinkHtml;\n",
              "          element.appendChild(docLink);\n",
              "        }\n",
              "      </script>\n",
              "    </div>\n",
              "  </div>\n",
              "  "
            ],
            "text/plain": [
              "               id          lat  ...         year        month\n",
              "count  7560.00000  7501.000000  ...  7560.000000  7560.000000\n",
              "mean   3779.50000    38.300808  ...  2015.000000     6.500000\n",
              "std    2182.52835     1.650503  ...     2.000132     3.452281\n",
              "min       0.00000    35.327870  ...  2012.000000     1.000000\n",
              "25%    1889.75000    37.962450  ...  2013.000000     3.750000\n",
              "50%    3779.50000    38.244440  ...  2015.000000     6.500000\n",
              "75%    5669.25000    39.636890  ...  2017.000000     9.250000\n",
              "max    7559.00000    40.643610  ...  2018.000000    12.000000\n",
              "\n",
              "[8 rows x 8 columns]"
            ]
          },
          "metadata": {},
          "execution_count": 125
        }
      ]
    },
    {
      "cell_type": "markdown",
      "source": [
        "##**City-Product-Time Level Analysis**\n",
        "Let's look at data at the city-product-time level.  There will be variation on the following dimensions:\n",
        "\n",
        "*   Between Products\n",
        "*   Over Time\n",
        "*   Between cities\n",
        "\n"
      ],
      "metadata": {
        "id": "UxeyaDcBHGPq"
      }
    },
    {
      "cell_type": "code",
      "metadata": {
        "id": "V8yPBhhv5svC"
      },
      "source": [
        "#Step 1: use groupby method and define a new dataframe for each of the metrics that we are interested in\n",
        "df_mean_Q = df.groupby(['brand','container','city','date'])['quantity'].mean().reset_index()# I reset the index for each new data set.  Don't worry if the indexing is confusing since it isn't the main point here\n",
        "df_mean_P = df.groupby(['brand','container','city','date'])['price'].mean().reset_index()\n",
        "# Step 2: the data frames from Step #1 can be merged by their unique rows.  Rows are unique by city x brand x container x date\n",
        "df_city = pd.merge(df_mean_Q, df_mean_P) # merges df_total_Q dataframe with df_mean_P dataframe based on their unique rows\n",
        "\n",
        "# Now let's rename the price and quantity column so we don't get confused later about what we are looking at\n",
        "df_city.rename(columns={'quantity': 'mean_q', 'price': 'mean_p'},inplace=True) # I \n",
        "\n",
        "# we lost our columns df['year'] and df['month'] so lets add these back\n",
        "df_city['year']=pd.DatetimeIndex(df_city['date']).year # I define a variable 'year' using the DatetimeIndex method\n",
        "df_city['month']=pd.DatetimeIndex(df_city['date']).month # similarly I repeat and define 'month'about what we are looking at\n",
        "df_city.rename(columns={'quantity': 'mean_q', 'price': 'mean_p'},inplace=True) \n",
        "\n",
        "df_city = df_city.pivot(index='date', columns=['city','brand','container'], values=['mean_q','mean_p'])\n"
      ],
      "execution_count": null,
      "outputs": []
    },
    {
      "cell_type": "markdown",
      "source": [
        "### Hierarchical Columns\n",
        "Now my columns in df_city are labeled in a hierarchy as follows\n",
        "\n",
        "df_city[METRIC][CITY][BRAND][CONTAINER]\n",
        "\n",
        "**METRIC** is in [mean_q, mean_p]\n",
        "\n",
        "**CITY** is in ['Athens', 'Irakleion', 'Larisa', 'Patra', 'Thessaloniki']\n",
        "\n",
        "**BRAND** is in ['adult-cola', 'gazoza', 'kinder-cola', 'lemon-boost',  'orange-power']\n",
        "\n",
        "**CONTAINER** is in ['plastic', 'can', nan, 'glass']"
      ],
      "metadata": {
        "id": "T-7HEE89OAyU"
      }
    },
    {
      "cell_type": "code",
      "source": [
        "# Example: the mean price of adult-cola can in Athens is:\n",
        "df_city['mean_p']['Athens']['adult-cola']['can']"
      ],
      "metadata": {
        "colab": {
          "base_uri": "https://localhost:8080/"
        },
        "id": "ElembUZOKs4m",
        "outputId": "b2a1f89b-0513-433e-902b-b72fe0029f17"
      },
      "execution_count": null,
      "outputs": [
        {
          "output_type": "execute_result",
          "data": {
            "text/plain": [
              "date\n",
              "2012-01-31    0.550\n",
              "2012-02-29    0.390\n",
              "2012-03-31    0.740\n",
              "2012-04-30    0.815\n",
              "2012-05-31    0.765\n",
              "              ...  \n",
              "2018-08-31    0.630\n",
              "2018-09-30    0.560\n",
              "2018-10-31    0.725\n",
              "2018-11-30    0.590\n",
              "2018-12-31    0.685\n",
              "Name: can, Length: 84, dtype: float64"
            ]
          },
          "metadata": {},
          "execution_count": 127
        }
      ]
    },
    {
      "cell_type": "markdown",
      "source": [
        "# Skip to HERE (optional)\n",
        "Go to the Colab toolbar at the top of the page and click:  \n",
        "\n",
        "Runtime --> Run Before\n",
        "\n",
        "Now you can proceed through this sheet cell by cell.  Make sure to execute each cell below as you encounter it or else subsequent cells may not work. "
      ],
      "metadata": {
        "id": "2BUlP4oNkCpG"
      }
    },
    {
      "cell_type": "markdown",
      "source": [
        "## Athens Function \n",
        "Within a city, we can define both price and quantity by specifying the brand and container.\n",
        "\n",
        "---\n",
        "Let's define a simple function to compare products in Athens using a scatter plot.  Quantity and Price are defined by brand and container.  Thus our function will take on 4 variables, \n",
        "\n",
        "2 inputs define which quantity we want\n",
        "\n",
        "1.   Q_brand\n",
        "2.   Q_container\n",
        "\n",
        "2 inputs define which price we want\n",
        "1.   P_brand\n",
        "2.   P_container\n",
        "\n",
        "Our new function Athens takes these inputs and returns the associated scatter plot\n",
        "\n",
        "**EXAMPLE:**  a scatter of the price of adult-cola cans and the quanity of orange-power cans would be:\n",
        "\n",
        "**Athens(Q_brand='orange-power', Q_container='can', P_brand='adult-cola', P_container='can')**\n",
        "\n",
        "Remember:\n",
        "\n",
        "\n",
        "**BRAND** is in ['adult-cola', 'gazoza', 'kinder-cola', 'lemon-boost',  'orange-power']\n",
        "\n",
        "**CONTAINER** is in ['plastic', 'can', nan, 'glass']"
      ],
      "metadata": {
        "id": "-sevFZgIWIfe"
      }
    },
    {
      "cell_type": "code",
      "source": [
        "\n",
        "def Athens(Q_brand=True, Q_container=True, P_brand=True, P_container=True):\n",
        "\n",
        " # define independent variable X\n",
        "  X = df_city['mean_q']['Athens'][Q_brand][Q_container].values.reshape(-1,1) #convert to numpy array using \"values\"\n",
        "  # define dependent variable Y\n",
        "  Y = df_city['mean_p']['Athens'][P_brand][P_container].values.reshape(-1,1)\n",
        "\n",
        "  linear_regression = LinearRegression() # Create a linear_regression object\n",
        "  linear_regression.fit(X , Y)  # Fit the model\n",
        "  Y_pred = linear_regression.predict(X)  # Fits the Data Points \"X\" with the parameters from the Fit step to form a prediction\n",
        "\n",
        "  plt.scatter(X, Y)\n",
        "  plt.plot(X, Y_pred, color='red')\n",
        "\n",
        "\n",
        "  #plt.scatter( df_city['mean_p']['Athens'][P_brand][P_container], df_city['mean_q']['Athens'][Q_brand][Q_container])\n",
        "  #add title and axis labels\n",
        "  plt.title('Price and Quantity')\n",
        "  plt.xlabel('Quantity '+ \" \" + Q_brand+ \" \" + Q_container)\n",
        "  plt.ylabel('Price' +\" \" + P_brand + \" \" + P_container)\n",
        "\n",
        "  return plt.show()\n",
        "\n",
        "\n"
      ],
      "metadata": {
        "id": "oV5DW27yT9kW"
      },
      "execution_count": 1,
      "outputs": []
    },
    {
      "cell_type": "markdown",
      "source": [
        "### Example"
      ],
      "metadata": {
        "id": "e2yfIL2us5AM"
      }
    },
    {
      "cell_type": "code",
      "source": [
        "# Example: Scatter plot quantity of adult-cola cans with price of lemon-boost glass bottles\n",
        "Athens(Q_brand='adult-cola', Q_container='can', P_brand='lemon-boost', P_container='glass')"
      ],
      "metadata": {
        "id": "ZAvLuMRXtEow"
      },
      "execution_count": null,
      "outputs": []
    },
    {
      "cell_type": "markdown",
      "source": [
        "## Exercise Interpretation\n",
        "Modify the code blocks in this section to answer the questions for your assignment"
      ],
      "metadata": {
        "id": "-ljEnCLRbzHo"
      }
    },
    {
      "cell_type": "markdown",
      "source": [
        "### Use the Athens function to scatter the quanitity of adult-cola cans against its' own price\n",
        "\n",
        "```\n",
        "Athens(Q_brand=BRAND, Q_container=CONTAINER, P_brand=BRAND, P_container=CONTAINER)\n",
        "```\n",
        "\n"
      ],
      "metadata": {
        "id": "jlHTQqCUcKk_"
      }
    },
    {
      "cell_type": "markdown",
      "source": [
        "####**QUESTION 1:**  \n",
        "Is there a positive or negative relationship?"
      ],
      "metadata": {
        "id": "e2yn99pvjIhe"
      }
    },
    {
      "cell_type": "code",
      "source": [
        "#Replace BRAND, CONTAINER in the Athens function to support your answer\n",
        "Athens(Q_brand=BRAND, Q_container=CONTAINER, P_brand=BRAND, P_container=CONTAINER)"
      ],
      "metadata": {
        "id": "nftt3DKWswl5"
      },
      "execution_count": null,
      "outputs": []
    },
    {
      "cell_type": "markdown",
      "source": [
        "### Substitutes or Not-Related? \n",
        "If goods A and B are substitutes then we would expect that higher prices of good A would be positively related to higher quantities of good B\n",
        "\n",
        "If goods A and B are not related then we would expect a scatter plot of the Quantity of good A and the Price of good B to have neither a positive nor negative relationship\n"
      ],
      "metadata": {
        "id": "mzp8QHkbc_td"
      }
    },
    {
      "cell_type": "markdown",
      "source": [
        "#### Application:  Revenue Canibalism \n",
        "Consider that if two goods, within a firm's product basket, are substitutes, then a promoting one product with a price decrease can canibalize the sale of another product in your brand, thus reducing or even having a negative impact on your overall brand sales.  On the other hand if goods are not related then dropping the price on one product line might have minimal impact on the sales of other brands.  \n"
      ],
      "metadata": {
        "id": "fsD4C3kMeBgk"
      }
    },
    {
      "cell_type": "markdown",
      "source": [
        "#####**QUESTION 2:**  \n",
        "You are the brand ambassador for adult-cola.  Do you have any concerns for canibalism if you drop your price on cans?  In other words, do you see any potential negative impact on your sales of glass or plastic products?\n"
      ],
      "metadata": {
        "id": "co5NQb_wi49v"
      }
    },
    {
      "cell_type": "code",
      "source": [
        "#Replace BRAND, CONTAINER in the Athens function to support your answer\n",
        "Athens(Q_brand=BRAND, Q_container='plastic', P_brand=BRAND, P_container=CONTAINER)\n",
        "Athens(Q_brand=BRAND, Q_container='glass', P_brand=BRAND, P_container=CONTAINER)"
      ],
      "metadata": {
        "id": "o4SU8oJ9sCFt"
      },
      "execution_count": null,
      "outputs": []
    },
    {
      "cell_type": "markdown",
      "source": [
        "##### **QUESTION 3:**"
      ],
      "metadata": {
        "id": "7NZ-Sov1jWuc"
      }
    },
    {
      "cell_type": "markdown",
      "source": [
        "You are the store manager:  Do you have any concerns of canibalism of gazoza cans if you drop the price of adult-cola cans?"
      ],
      "metadata": {
        "id": "wv2FX0IIjsRq"
      }
    },
    {
      "cell_type": "code",
      "source": [
        "#Replace BRAND, CONTAINER in the Athens function to support your answer\n",
        "Athens(Q_brand=BRAND, Q_container=CONTAINER, P_brand=BRAND, P_container=CONTAINER)\n"
      ],
      "metadata": {
        "id": "rTHdxbqMslTC"
      },
      "execution_count": null,
      "outputs": []
    },
    {
      "cell_type": "markdown",
      "source": [
        "##### **QUESTION 4:**\n",
        "\n",
        "Do you find any evidence of substitution effects between adult-cola cans and kinder-cola cans?\n",
        "\n",
        "How about orange-power cans and lemon-boost cans?\n"
      ],
      "metadata": {
        "id": "aadu4ThClCIF"
      }
    },
    {
      "cell_type": "code",
      "source": [
        "#Replace BRAND, CONTAINER in the Athens function to support your answer\n",
        "Athens(Q_brand=BRAND, Q_container=CONTAINER, P_brand=BRAND, P_container=CONTAINER)\n",
        "#Replace BRAND, CONTAINER in the Athens function to support your answer\n",
        "Athens(Q_brand=BRAND, Q_container=CONTAINER, P_brand=BRAND, P_container=CONTAINER)"
      ],
      "metadata": {
        "id": "yDRvOW98sqm3"
      },
      "execution_count": null,
      "outputs": []
    },
    {
      "cell_type": "markdown",
      "source": [
        "# Elasticity Comming Soon\n",
        "Before we measured quantity and price in terms of levels.  This is not desireable for many reasons.  Elasticity is defined in terms of percentage change so we will first transform our dataset from levels into percentage change.  \n",
        "\n",
        "Your textbook gives you a formula for calculating percentage change.  I will use a different method, which is first taking natural logs and then first differencing the time series.  We call this log-first-differences and it is the most common method.  Understanding why this works requires more advanced understanding of calculus (Taylor Series Approximation to be precise) so I won't dive deep into it here but feel free to check out the [link](http://faculty.tamucc.edu/jlee/math_notes.htm) if interested.  Just take my word for now.  "
      ],
      "metadata": {
        "id": "BLQs9l24lg7n"
      }
    }
  ]
}